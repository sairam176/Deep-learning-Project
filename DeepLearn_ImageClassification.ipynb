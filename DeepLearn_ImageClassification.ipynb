{
 "cells": [
  {
   "cell_type": "raw",
   "metadata": {
    "collapsed": true
   },
   "source": [
    "### Image Classification\n",
    "In this project, you'll classify images from the CIFAR-10 dataset. The dataset consists of\n",
    "airplanes, dogs, cats, and other objects. You'll preprocess the images, then train a convolutional\n",
    "neural network on all the samples. The images need to be normalized and the labels need to be\n",
    "one-hot encoded. You'll get to apply what you learned and build a convolutional, max pooling,\n",
    "dropout, and fully connected layers. At the end, you'll get to see your neural network's\n",
    "predictions on the sample images.\n",
    "### Get the Data\n",
    "Run the following cell to download the CIFAR-10 dataset for python."
   ]
  },
  {
   "cell_type": "markdown",
   "metadata": {},
   "source": [
    "### Data\n",
    "CIFAR-10 is an established computer-vision dataset used for object recognition. It is a subset of\n",
    "the 80 million tiny images dataset and consists of 60,000 32x32 color images containing one of\n",
    "10 object classes, with 6000 images per class. It was collected by Alex Krizhevsky, Vinod Nair,\n",
    "and Geoffrey Hinton.\n",
    "Let's get the data by running the following function"
   ]
  },
  {
   "cell_type": "code",
   "execution_count": 1,
   "metadata": {},
   "outputs": [],
   "source": [
    "from urllib.request import urlretrieve\n",
    "from os.path import isfile, isdir\n",
    "from tqdm import tqdm\n",
    "import tarfile"
   ]
  },
  {
   "cell_type": "code",
   "execution_count": 2,
   "metadata": {},
   "outputs": [],
   "source": [
    "cifar10_dataset_folder_path = 'cifar-10-batches-py'\n",
    "\n",
    "class DLProgress(tqdm):\n",
    "    last_block = 0\n",
    "\n",
    "    def hook(self, block_num=1, block_size=1, total_size=None):\n",
    "        self.total = total_size\n",
    "        self.update((block_num - self.last_block) * block_size)\n",
    "        self.last_block = block_num\n",
    "\n",
    "if not isfile('cifar-10-python.tar.gz'):\n",
    "    with DLProgress(unit='B', unit_scale=True, miniters=1, desc='CIFAR-10 Dataset') as pbar:\n",
    "        urlretrieve(\n",
    "            'https://www.cs.toronto.edu/~kriz/cifar-10-python.tar.gz',\n",
    "            'cifar-10-python.tar.gz',\n",
    "            pbar.hook)\n",
    "\n",
    "if not isdir(cifar10_dataset_folder_path):\n",
    "    with tarfile.open('cifar-10-python.tar.gz') as tar:\n",
    "        tar.extractall()\n",
    "        tar.close()"
   ]
  },
  {
   "cell_type": "code",
   "execution_count": 3,
   "metadata": {},
   "outputs": [],
   "source": [
    "import pickle\n",
    "import numpy as np\n",
    "import matplotlib.pyplot as plt\n",
    "from sklearn.preprocessing import LabelBinarizer"
   ]
  },
  {
   "cell_type": "code",
   "execution_count": 4,
   "metadata": {},
   "outputs": [],
   "source": [
    "def _load_label_names():\n",
    "    \"\"\"\n",
    "    Load the label names from file\n",
    "    \"\"\"\n",
    "    return ['airplane', 'automobile', 'bird', 'cat', 'deer', 'dog', 'frog', 'horse', 'ship', 'truck']\n",
    "def load_cfar10_batch(cifar10_dataset_folder_path, batch_id):\n",
    "    \"\"\"\n",
    "    Load a batch of the dataset\n",
    "    \"\"\"\n",
    "    with open(cifar10_dataset_folder_path + '/data_batch_' + str(batch_id), mode='rb') as file:\n",
    "        batch = pickle.load(file, encoding='latin1')\n",
    "    features = batch['data'].reshape((len(batch['data']), 3, 32, 32)).transpose(0, 2, 3, 1)\n",
    "    labels = batch['labels']\n",
    "    return features, labels"
   ]
  },
  {
   "cell_type": "code",
   "execution_count": 5,
   "metadata": {},
   "outputs": [],
   "source": [
    "def display_stats(cifar10_dataset_folder_path, batch_id, sample_id):\n",
    "    \"\"\"\n",
    "    Display Stats of the the dataset\n",
    "    \"\"\"\n",
    "    batch_ids = list(range(1, 6))\n",
    "\n",
    "    if batch_id not in batch_ids:\n",
    "        print('Batch Id out of Range. Possible Batch Ids: {}'.format(batch_ids))\n",
    "        return None\n",
    "    features, labels = load_cfar10_batch(cifar10_dataset_folder_path, batch_id)\n",
    "    if not (0 <= sample_id < len(features)):\n",
    "        print('{} samples in batch {}. {} is out of range.'.format(len(features), batch_id, sample_id))\n",
    "        return None\n",
    "    print('\\nStats of batch {}:'.format(batch_id))\n",
    "    print('Samples: {}'.format(len(features)))\n",
    "    print('Label Counts: {}'.format(dict(zip(*np.unique(labels, return_counts=True)))))\n",
    "    print('First 20 Labels: {}'.format(labels[:20]))\n",
    "\n",
    "    sample_image = features[sample_id]\n",
    "    sample_label = labels[sample_id]\n",
    "    label_names = _load_label_names()\n",
    "\n",
    "    print('\\nExample of Image {}:'.format(sample_id))\n",
    "    print('Image - Min Value: {} Max Value: {}'.format(sample_image.min(), sample_image.max()))\n",
    "    print('Image - Shape: {}'.format(sample_image.shape))\n",
    "    print('Label - Label Id: {} Name: {}'.format(sample_label, label_names[sample_label]))\n",
    "    plt.axis('off')\n",
    "    plt.imshow(sample_image)"
   ]
  },
  {
   "cell_type": "code",
   "execution_count": 6,
   "metadata": {},
   "outputs": [],
   "source": [
    "def _preprocess_and_save(normalize, one_hot_encode, features, labels, filename):\n",
    "    \"\"\"\n",
    "    Preprocess data and save it to file\n",
    "    \"\"\"\n",
    "    features = normalize(features)\n",
    "    labels = one_hot_encode(labels)\n",
    "    pickle.dump((features, labels), open(filename, 'wb'))"
   ]
  },
  {
   "cell_type": "code",
   "execution_count": 7,
   "metadata": {},
   "outputs": [],
   "source": [
    "def preprocess_and_save_data(cifar10_dataset_folder_path, normalize, one_hot_encode):\n",
    "    \"\"\"\n",
    "    Preprocess Training and Validation Data\n",
    "    \"\"\"\n",
    "    n_batches = 5\n",
    "    valid_features = []\n",
    "    valid_labels = []\n",
    "    for batch_i in range(1, n_batches + 1):\n",
    "        features, labels = load_cfar10_batch(cifar10_dataset_folder_path, batch_i)\n",
    "        validation_count = int(len(features) * 0.1)\n",
    "    # Prprocess and save a batch of trainingdata \n",
    "        _preprocess_and_save(\n",
    "        normalize,\n",
    "        one_hot_encode, features[:-\n",
    "        validation_count], labels[:-\n",
    "        validation_count], 'preprocess_batch_'\n",
    "        + str(batch_i) + '.p')\n",
    "    # Use a portion of training batch for validation\n",
    "    valid_features.extend(features[-validation_count:])\n",
    "    valid_labels.extend(labels[-validation_count:])\n",
    "\n",
    "# Preprocess and Save all validation data\n",
    "    _preprocess_and_save(\n",
    "        normalize,\n",
    "        one_hot_encode,\n",
    "        np.array(valid_features),\n",
    "        np.array(valid_labels),\n",
    "        'preprocess_validation.p')\n",
    "\n",
    "    with open(cifar10_dataset_folder_path + '/test_batch', mode='rb') as file:\n",
    "        batch = pickle.load(file, encoding='latin1')\n",
    "    # load the training data\n",
    "    test_features = batch['data'].reshape((len(batch['data']), 3, 32, 32)).transpose(0, 2, 3, 1)\n",
    "    test_labels = batch['labels']\n",
    "    \n",
    "    # Preprocess and Save all training data \n",
    "    _preprocess_and_save(\n",
    "        normalize,\n",
    "        one_hot_encode,\n",
    "        np.array(test_features),\n",
    "        np.array(test_labels),\n",
    "        'preprocess_training.p')"
   ]
  },
  {
   "cell_type": "code",
   "execution_count": 8,
   "metadata": {},
   "outputs": [],
   "source": [
    "def batch_features_labels(features, labels, batch_size):\n",
    "    \"\"\"\n",
    "    Split features and labels into batches\n",
    "    \"\"\"\n",
    "    for start in range(0, len(features), batch_size):\n",
    "        end = min(start + batch_size, len(features))\n",
    "        yield features[start:end], labels[start:end]"
   ]
  },
  {
   "cell_type": "code",
   "execution_count": 9,
   "metadata": {},
   "outputs": [],
   "source": [
    "def load_preprocess_training_batch(batch_id, batch_size):\n",
    "    \"\"\"\n",
    "    Load the Preprocessed Training data and return them in batches of <batch_size> or less\n",
    "    \"\"\"\n",
    "    filename = 'preprocess_batch_' + str(batch_id) + '.p'\n",
    "    features, labels = pickle.load(open(filename, mode='rb'))\n",
    "    \n",
    "    # Return the training data in batches of size <batch_size> or less\n",
    "    return batch_features_labels(features, labels, batch_size)"
   ]
  },
  {
   "cell_type": "code",
   "execution_count": 10,
   "metadata": {},
   "outputs": [],
   "source": [
    "def display_image_predictions(features, labels, predictions):\n",
    "    n_classes = 10\n",
    "    label_names = _load_label_names()\n",
    "    label_binarizer = LabelBinarizer()\n",
    "    label_binarizer.fit(range(n_classes))\n",
    "    label_ids = label_binarizer.inverse_transform(np.array(labels))\n",
    "    \n",
    "    fig, axies = plt.subplots(nrows=4, ncols=2)\n",
    "    fig.tight_layout()\n",
    "    fig.suptitle('Softmax Predictions', fontsize=20, y=1.1)\n",
    "    \n",
    "    n_predictions = 3\n",
    "    margin = 0.05\n",
    "    ind = np.arange(n_predictions)\n",
    "    width = (1. - 2. * margin) / n_predictions\n",
    "    \n",
    "    for image_i, (feature, label_id, pred_indicies, pred_values) in enumerate(zip(features, label_ids, predictions.indices, predictions.values)):\n",
    "        pred_names = [label_names[pred_i] for pred_i in pred_indicies] \n",
    "        correct_name = label_names[label_id]\n",
    "    \n",
    "        axies[image_i][0].imshow(feature*255)\n",
    "        axies[image_i][0].set_title(correct_name)\n",
    "        axies[image_i][0].set_axis_off()\n",
    "        \n",
    "        axies[image_i][1].barh(ind + margin, pred_values[::-1], width)\n",
    "        axies[image_i][1].set_yticks(ind + margin)\n",
    "        axies[image_i][1].set_yticklabels(pred_names[::-1])\n",
    "        axies[image_i][1].set_xticks([0, 0.5, 1.0])"
   ]
  },
  {
   "cell_type": "code",
   "execution_count": 11,
   "metadata": {},
   "outputs": [],
   "source": [
    "%matplotlib inline\n",
    "%config InlineBackend.figure_format = 'retina'\n",
    "import numpy as np"
   ]
  },
  {
   "cell_type": "code",
   "execution_count": 12,
   "metadata": {
    "scrolled": false
   },
   "outputs": [
    {
     "name": "stdout",
     "output_type": "stream",
     "text": [
      "\n",
      "Stats of batch 3:\n",
      "Samples: 10000\n",
      "Label Counts: {0: 994, 1: 1042, 2: 965, 3: 997, 4: 990, 5: 1029, 6: 978, 7: 1015, 8: 961, 9: 1029}\n",
      "First 20 Labels: [8, 5, 0, 6, 9, 2, 8, 3, 6, 2, 7, 4, 6, 9, 0, 0, 7, 3, 7, 2]\n",
      "\n",
      "Example of Image 5:\n",
      "Image - Min Value: 9 Max Value: 255\n",
      "Image - Shape: (32, 32, 3)\n",
      "Label - Label Id: 2 Name: bird\n"
     ]
    },
    {
     "data": {
      "image/png": "[encoded data removed]",
      "text/plain": [
       "<Figure size 432x288 with 1 Axes>"
      ]
     },
     "metadata": {
      "image/png": {
       "height": 248,
       "width": 251
      },
      "needs_background": "light"
     },
     "output_type": "display_data"
    }
   ],
   "source": [
    "# Explore the dataset \n",
    "batch_id = 3\n",
    "sample_id = 5\n",
    "display_stats(cifar10_dataset_folder_path, batch_id, sample_id)\n"
   ]
  },
  {
   "cell_type": "markdown",
   "metadata": {},
   "source": [
    "### Load data & normalize"
   ]
  },
  {
   "cell_type": "code",
   "execution_count": 13,
   "metadata": {},
   "outputs": [],
   "source": [
    "# Put file path as a string here\n",
    "CIFAR_DIR = 'cifar-10-batches-py/'"
   ]
  },
  {
   "cell_type": "code",
   "execution_count": 14,
   "metadata": {},
   "outputs": [],
   "source": [
    "def unpickle(file):\n",
    "    import pickle\n",
    "    with open(file, 'rb') as fo:\n",
    "        cifar_dict = pickle.load(fo, encoding='bytes')\n",
    "    return cifar_dict"
   ]
  },
  {
   "cell_type": "code",
   "execution_count": 15,
   "metadata": {},
   "outputs": [],
   "source": [
    "dirs = ['batches.meta','data_batch_1','data_batch_2','data_batch_3','data_batch_4','data_batch_5','test_batch']"
   ]
  },
  {
   "cell_type": "code",
   "execution_count": 16,
   "metadata": {},
   "outputs": [],
   "source": [
    "all_data = [0,1,2,3,4,5,6]"
   ]
  },
  {
   "cell_type": "code",
   "execution_count": 17,
   "metadata": {},
   "outputs": [],
   "source": [
    "for i,direc in zip(all_data,dirs):\n",
    "    all_data[i] = unpickle(CIFAR_DIR+direc)"
   ]
  },
  {
   "cell_type": "code",
   "execution_count": 18,
   "metadata": {},
   "outputs": [],
   "source": [
    "batch_meta = all_data[0]\n",
    "data_batch1 = all_data[1]\n",
    "data_batch2 = all_data[2]\n",
    "data_batch3 = all_data[3]\n",
    "data_batch4 = all_data[4]\n",
    "data_batch5 = all_data[5]\n",
    "test_batch = all_data[6]"
   ]
  },
  {
   "cell_type": "code",
   "execution_count": 19,
   "metadata": {},
   "outputs": [
    {
     "data": {
      "text/plain": [
       "{b'num_cases_per_batch': 10000,\n",
       " b'label_names': [b'airplane',\n",
       "  b'automobile',\n",
       "  b'bird',\n",
       "  b'cat',\n",
       "  b'deer',\n",
       "  b'dog',\n",
       "  b'frog',\n",
       "  b'horse',\n",
       "  b'ship',\n",
       "  b'truck'],\n",
       " b'num_vis': 3072}"
      ]
     },
     "execution_count": 19,
     "metadata": {},
     "output_type": "execute_result"
    }
   ],
   "source": [
    "batch_meta #batch_meta[b\"label_names\"]"
   ]
  },
  {
   "cell_type": "code",
   "execution_count": 20,
   "metadata": {},
   "outputs": [
    {
     "data": {
      "text/plain": [
       "dict_keys([b'batch_label', b'labels', b'data', b'filenames'])"
      ]
     },
     "execution_count": 20,
     "metadata": {},
     "output_type": "execute_result"
    }
   ],
   "source": [
    "data_batch1.keys()"
   ]
  },
  {
   "cell_type": "code",
   "execution_count": 21,
   "metadata": {},
   "outputs": [],
   "source": [
    "import matplotlib.pyplot as plt\n",
    "%matplotlib inline\n",
    "\n",
    "import numpy as np"
   ]
  },
  {
   "cell_type": "code",
   "execution_count": 22,
   "metadata": {},
   "outputs": [],
   "source": [
    "X = data_batch1[b\"data\"]"
   ]
  },
  {
   "cell_type": "code",
   "execution_count": 23,
   "metadata": {},
   "outputs": [],
   "source": [
    "#Append X data\n",
    "X = np.append(X,data_batch2[b\"data\"],axis=0)\n",
    "X = np.append(X,data_batch3[b\"data\"],axis=0)\n",
    "X = np.append(X,data_batch4[b\"data\"],axis=0)\n",
    "X = np.append(X,data_batch5[b\"data\"],axis=0)"
   ]
  },
  {
   "cell_type": "code",
   "execution_count": 24,
   "metadata": {},
   "outputs": [
    {
     "data": {
      "text/plain": [
       "(50000, 3072)"
      ]
     },
     "execution_count": 24,
     "metadata": {},
     "output_type": "execute_result"
    }
   ],
   "source": [
    "X.shape"
   ]
  },
  {
   "cell_type": "code",
   "execution_count": 25,
   "metadata": {},
   "outputs": [],
   "source": [
    "X_train = X.reshape(50000, 3, 32, 32).transpose(0,2,3,1).astype(\"uint8\")"
   ]
  },
  {
   "cell_type": "code",
   "execution_count": 26,
   "metadata": {},
   "outputs": [
    {
     "data": {
      "text/plain": [
       "255"
      ]
     },
     "execution_count": 26,
     "metadata": {},
     "output_type": "execute_result"
    }
   ],
   "source": [
    "X_train.max()"
   ]
  },
  {
   "cell_type": "code",
   "execution_count": 27,
   "metadata": {},
   "outputs": [],
   "source": [
    "#Normalize it for color\n",
    "X_train=(X_train/255)"
   ]
  },
  {
   "cell_type": "code",
   "execution_count": 28,
   "metadata": {},
   "outputs": [],
   "source": [
    "X_test = test_batch[b\"data\"]"
   ]
  },
  {
   "cell_type": "code",
   "execution_count": 29,
   "metadata": {},
   "outputs": [
    {
     "data": {
      "text/plain": [
       "(10000, 3072)"
      ]
     },
     "execution_count": 29,
     "metadata": {},
     "output_type": "execute_result"
    }
   ],
   "source": [
    "X_test.shape"
   ]
  },
  {
   "cell_type": "code",
   "execution_count": 30,
   "metadata": {},
   "outputs": [],
   "source": [
    "X_test = X_test.reshape(10000, 3, 32, 32).transpose(0,2,3,1).astype(\"uint8\")"
   ]
  },
  {
   "cell_type": "code",
   "execution_count": 31,
   "metadata": {},
   "outputs": [
    {
     "data": {
      "text/plain": [
       "255"
      ]
     },
     "execution_count": 31,
     "metadata": {},
     "output_type": "execute_result"
    }
   ],
   "source": [
    "X_test.max()"
   ]
  },
  {
   "cell_type": "code",
   "execution_count": 32,
   "metadata": {},
   "outputs": [],
   "source": [
    "X_test=(X_test/255)"
   ]
  },
  {
   "cell_type": "code",
   "execution_count": 33,
   "metadata": {},
   "outputs": [],
   "source": [
    "y = data_batch1[b\"labels\"]"
   ]
  },
  {
   "cell_type": "code",
   "execution_count": 34,
   "metadata": {},
   "outputs": [],
   "source": [
    "#Append y values\n",
    "y = np.append(y,data_batch2[b\"labels\"],axis=0)\n",
    "y = np.append(y,data_batch3[b\"labels\"],axis=0)\n",
    "y = np.append(y,data_batch4[b\"labels\"],axis=0)\n",
    "y = np.append(y,data_batch5[b\"labels\"],axis=0)"
   ]
  },
  {
   "cell_type": "code",
   "execution_count": 35,
   "metadata": {},
   "outputs": [
    {
     "data": {
      "text/plain": [
       "(50000,)"
      ]
     },
     "execution_count": 35,
     "metadata": {},
     "output_type": "execute_result"
    }
   ],
   "source": [
    "y.shape"
   ]
  },
  {
   "cell_type": "code",
   "execution_count": 36,
   "metadata": {},
   "outputs": [
    {
     "data": {
      "text/plain": [
       "array([6, 9, 9])"
      ]
     },
     "execution_count": 36,
     "metadata": {},
     "output_type": "execute_result"
    }
   ],
   "source": [
    "y[:3]"
   ]
  },
  {
   "cell_type": "code",
   "execution_count": 37,
   "metadata": {},
   "outputs": [
    {
     "data": {
      "text/plain": [
       "<matplotlib.image.AxesImage at 0x22f6563d710>"
      ]
     },
     "execution_count": 37,
     "metadata": {},
     "output_type": "execute_result"
    },
    {
     "data": {
      "image/png": "[encoded data removed]",
      "text/plain": [
       "<Figure size 432x288 with 1 Axes>"
      ]
     },
     "metadata": {
      "image/png": {
       "height": 250,
       "width": 253
      },
      "needs_background": "light"
     },
     "output_type": "display_data"
    }
   ],
   "source": [
    "plt.imshow(X_train[0])"
   ]
  },
  {
   "cell_type": "code",
   "execution_count": 38,
   "metadata": {},
   "outputs": [
    {
     "data": {
      "text/plain": [
       "<matplotlib.image.AxesImage at 0x22f00250fd0>"
      ]
     },
     "execution_count": 38,
     "metadata": {},
     "output_type": "execute_result"
    },
    {
     "data": {
      "image/png": "[encoded data removed]",
      "text/plain": [
       "<Figure size 432x288 with 1 Axes>"
      ]
     },
     "metadata": {
      "image/png": {
       "height": 250,
       "width": 253
      },
      "needs_background": "light"
     },
     "output_type": "display_data"
    }
   ],
   "source": [
    "plt.imshow(X_train[1])"
   ]
  },
  {
   "cell_type": "code",
   "execution_count": 39,
   "metadata": {},
   "outputs": [],
   "source": [
    "def one_hot_encode(vec, vals=10):\n",
    "    '''\n",
    "    For use to one-hot encode the 10- possible labels\n",
    "    '''\n",
    "    n = len(vec)\n",
    "    out = np.zeros((n, vals))\n",
    "    out[range(n), vec] = 1\n",
    "    return out"
   ]
  },
  {
   "cell_type": "code",
   "execution_count": 40,
   "metadata": {},
   "outputs": [],
   "source": [
    "class CifarHelper():\n",
    "    \n",
    "    def __init__(self):\n",
    "        self.i = 0\n",
    "        \n",
    "        self.all_train_batches = [data_batch1,data_batch2,data_batch3,data_batch4,data_batch5]\n",
    "        self.test_batch = [test_batch]\n",
    "        \n",
    "        self.training_images = None\n",
    "        self.training_labels = None\n",
    "        \n",
    "        self.test_images = None\n",
    "        self.test_labels = None\n",
    "    \n",
    "    def set_up_images(self):\n",
    "        \n",
    "        print(\"Setting Up Training Images and Labels\")\n",
    "        \n",
    "        self.training_images = np.vstack([d[b\"data\"] for d in self.all_train_batches])\n",
    "        train_len = len(self.training_images)\n",
    "        \n",
    "        self.training_images = self.training_images.reshape(train_len,3,32,32).transpose(0,2,3,1)/255\n",
    "        self.training_labels = one_hot_encode(np.hstack([d[b\"labels\"] for d in self.all_train_batches]), 10)\n",
    "        \n",
    "        print(\"Setting Up Test Images and Labels\")\n",
    "        \n",
    "        self.test_images = np.vstack([d[b\"data\"] for d in self.test_batch])\n",
    "        test_len = len(self.test_images)\n",
    "        \n",
    "        self.test_images = self.test_images.reshape(test_len,3,32,32).transpose(0,2,3,1)/255\n",
    "        self.test_labels = one_hot_encode(np.hstack([d[b\"labels\"] for d in self.test_batch]), 10)\n",
    "\n",
    "        \n",
    "    def next_batch(self, batch_size):\n",
    "        x = self.training_images[self.i:self.i+batch_size].reshape(100,32,32,3)\n",
    "        y = self.training_labels[self.i:self.i+batch_size]\n",
    "        self.i = (self.i + batch_size) % len(self.training_images)\n",
    "        return x, y"
   ]
  },
  {
   "cell_type": "code",
   "execution_count": 41,
   "metadata": {},
   "outputs": [
    {
     "name": "stdout",
     "output_type": "stream",
     "text": [
      "Setting Up Training Images and Labels\n",
      "Setting Up Test Images and Labels\n"
     ]
    }
   ],
   "source": [
    "# Before Your tf.Session run these two lines\n",
    "ch = CifarHelper()\n",
    "ch.set_up_images()\n",
    "\n",
    "# During your session to grab the next batch use this line\n",
    "# (Just like we did for mnist.train.next_batch)\n",
    "# batch = ch.next_batch(100)"
   ]
  },
  {
   "cell_type": "markdown",
   "metadata": {},
   "source": [
    "Create a 2D convolution using builtin conv2d from TF. From those docs:\n",
    "\n",
    "Computes a 2-D convolution given 4-D input and filter tensors.\n",
    "\n",
    "Given an input tensor of shape [batch, in_height, in_width, in_channels] and a filter / kernel tensor of shape [filter_height, filter_width, in_channels, out_channels], this op performs the following:\n",
    "1.Flattens the filter to a 2-D matrix with shape [filter_height * filter_width * in_channels, output_channels].\n",
    "2.Extracts image patches from the input tensor to form a virtual tensor of shape [batch, out_height, out_width,\n",
    "filter_height * filter_width * in_channels].\n",
    "3.For each patch, right-multiplies the filter matrix and the image patch vector.\n"
   ]
  },
  {
   "cell_type": "code",
   "execution_count": 42,
   "metadata": {},
   "outputs": [
    {
     "name": "stderr",
     "output_type": "stream",
     "text": [
      "Using TensorFlow backend.\n"
     ]
    }
   ],
   "source": [
    "import tensorflow as tf\n",
    "import keras\n",
    "from tensorflow.keras.datasets import cifar10\n",
    "from tensorflow.keras.preprocessing.image import ImageDataGenerator\n",
    "from tensorflow.keras.models import Sequential\n",
    "from tensorflow.keras.layers import Dense, Dropout, Activation, Flatten\n",
    "from tensorflow.keras.layers import Conv2D, MaxPooling2D"
   ]
  },
  {
   "cell_type": "code",
   "execution_count": 43,
   "metadata": {},
   "outputs": [],
   "source": [
    "num_classes = 10\n",
    "y_train = keras.utils.to_categorical(y, num_classes)"
   ]
  },
  {
   "cell_type": "code",
   "execution_count": 44,
   "metadata": {},
   "outputs": [
    {
     "data": {
      "text/plain": [
       "array([[0., 0., 0., 0., 0., 0., 1., 0., 0., 0.]], dtype=float32)"
      ]
     },
     "execution_count": 44,
     "metadata": {},
     "output_type": "execute_result"
    }
   ],
   "source": [
    "y_train[:1]"
   ]
  },
  {
   "cell_type": "code",
   "execution_count": 45,
   "metadata": {},
   "outputs": [
    {
     "name": "stdout",
     "output_type": "stream",
     "text": [
      "WARNING:tensorflow:From C:\\Users\\HP\\Anaconda3\\lib\\site-packages\\tensorflow\\python\\ops\\resource_variable_ops.py:435: colocate_with (from tensorflow.python.framework.ops) is deprecated and will be removed in a future version.\n",
      "Instructions for updating:\n",
      "Colocations handled automatically by placer.\n",
      "WARNING:tensorflow:From C:\\Users\\HP\\Anaconda3\\lib\\site-packages\\tensorflow\\python\\keras\\layers\\core.py:143: calling dropout (from tensorflow.python.ops.nn_ops) with keep_prob is deprecated and will be removed in a future version.\n",
      "Instructions for updating:\n",
      "Please use `rate` instead of `keep_prob`. Rate should be set to `rate = 1 - keep_prob`.\n"
     ]
    }
   ],
   "source": [
    "model = Sequential()\n",
    "model.add(Conv2D(32, (3, 3), padding='same',\n",
    "                 input_shape=X_train.shape[1:]))\n",
    "model.add(Activation('relu'))\n",
    "model.add(Conv2D(32, (3, 3)))\n",
    "model.add(Activation('relu'))\n",
    "model.add(MaxPooling2D(pool_size=(2, 2)))\n",
    "model.add(Dropout(0.25))\n",
    "\n",
    "model.add(Conv2D(64, (3, 3), padding='same'))\n",
    "model.add(Activation('relu'))\n",
    "model.add(Conv2D(64, (3, 3)))\n",
    "model.add(Activation('relu'))\n",
    "model.add(MaxPooling2D(pool_size=(2, 2)))\n",
    "model.add(Dropout(0.25))\n",
    "\n",
    "model.add(Flatten())\n",
    "\n",
    "model.add(Dense(256))\n",
    "model.add(Activation('relu'))\n",
    "model.add(Dropout(0.5))\n",
    "\n",
    "model.add(Dense(num_classes))\n",
    "model.add(Activation('softmax'))"
   ]
  },
  {
   "cell_type": "code",
   "execution_count": 46,
   "metadata": {},
   "outputs": [],
   "source": [
    "# Let's train the model using RMSprop\n",
    "model.compile(loss='categorical_crossentropy',\n",
    "              optimizer='adam',\n",
    "              metrics=['accuracy'])"
   ]
  },
  {
   "cell_type": "code",
   "execution_count": 47,
   "metadata": {},
   "outputs": [
    {
     "name": "stdout",
     "output_type": "stream",
     "text": [
      "_________________________________________________________________\n",
      "Layer (type)                 Output Shape              Param #   \n",
      "=================================================================\n",
      "conv2d (Conv2D)              (None, 32, 32, 32)        896       \n",
      "_________________________________________________________________\n",
      "activation (Activation)      (None, 32, 32, 32)        0         \n",
      "_________________________________________________________________\n",
      "conv2d_1 (Conv2D)            (None, 30, 30, 32)        9248      \n",
      "_________________________________________________________________\n",
      "activation_1 (Activation)    (None, 30, 30, 32)        0         \n",
      "_________________________________________________________________\n",
      "max_pooling2d (MaxPooling2D) (None, 15, 15, 32)        0         \n",
      "_________________________________________________________________\n",
      "dropout (Dropout)            (None, 15, 15, 32)        0         \n",
      "_________________________________________________________________\n",
      "conv2d_2 (Conv2D)            (None, 15, 15, 64)        18496     \n",
      "_________________________________________________________________\n",
      "activation_2 (Activation)    (None, 15, 15, 64)        0         \n",
      "_________________________________________________________________\n",
      "conv2d_3 (Conv2D)            (None, 13, 13, 64)        36928     \n",
      "_________________________________________________________________\n",
      "activation_3 (Activation)    (None, 13, 13, 64)        0         \n",
      "_________________________________________________________________\n",
      "max_pooling2d_1 (MaxPooling2 (None, 6, 6, 64)          0         \n",
      "_________________________________________________________________\n",
      "dropout_1 (Dropout)          (None, 6, 6, 64)          0         \n",
      "_________________________________________________________________\n",
      "flatten (Flatten)            (None, 2304)              0         \n",
      "_________________________________________________________________\n",
      "dense (Dense)                (None, 256)               590080    \n",
      "_________________________________________________________________\n",
      "activation_4 (Activation)    (None, 256)               0         \n",
      "_________________________________________________________________\n",
      "dropout_2 (Dropout)          (None, 256)               0         \n",
      "_________________________________________________________________\n",
      "dense_1 (Dense)              (None, 10)                2570      \n",
      "_________________________________________________________________\n",
      "activation_5 (Activation)    (None, 10)                0         \n",
      "=================================================================\n",
      "Total params: 658,218\n",
      "Trainable params: 658,218\n",
      "Non-trainable params: 0\n",
      "_________________________________________________________________\n"
     ]
    }
   ],
   "source": [
    "model.summary()"
   ]
  },
  {
   "cell_type": "code",
   "execution_count": 48,
   "metadata": {},
   "outputs": [
    {
     "name": "stdout",
     "output_type": "stream",
     "text": [
      "Train on 35000 samples, validate on 15000 samples\n",
      "WARNING:tensorflow:From C:\\Users\\HP\\Anaconda3\\lib\\site-packages\\tensorflow\\python\\ops\\math_ops.py:3066: to_int32 (from tensorflow.python.ops.math_ops) is deprecated and will be removed in a future version.\n",
      "Instructions for updating:\n",
      "Use tf.cast instead.\n",
      "Epoch 1/3\n"
     ]
    },
    {
     "name": "stdout",
     "output_type": "stream",
     "text": [
      "26368/35000 [=====================>........] - ETA: 8:36 - loss: 2.3208 - acc: 0.148 - ETA: 5:22 - loss: 2.3157 - acc: 0.117 - ETA: 4:18 - loss: 2.3283 - acc: 0.093 - ETA: 3:45 - loss: 2.3219 - acc: 0.101 - ETA: 3:26 - loss: 2.3196 - acc: 0.104 - ETA: 3:12 - loss: 2.3163 - acc: 0.106 - ETA: 3:02 - loss: 2.3158 - acc: 0.104 - ETA: 2:54 - loss: 2.3129 - acc: 0.105 - ETA: 2:48 - loss: 2.3112 - acc: 0.103 - ETA: 2:44 - loss: 2.3094 - acc: 0.102 - ETA: 2:39 - loss: 2.3079 - acc: 0.105 - ETA: 2:36 - loss: 2.3068 - acc: 0.104 - ETA: 2:33 - loss: 2.3047 - acc: 0.107 - ETA: 2:31 - loss: 2.3030 - acc: 0.109 - ETA: 2:28 - loss: 2.3015 - acc: 0.111 - ETA: 2:26 - loss: 2.3003 - acc: 0.111 - ETA: 2:24 - loss: 2.3005 - acc: 0.110 - ETA: 2:22 - loss: 2.2991 - acc: 0.111 - ETA: 2:21 - loss: 2.2965 - acc: 0.114 - ETA: 2:19 - loss: 2.2939 - acc: 0.116 - ETA: 2:18 - loss: 2.2905 - acc: 0.120 - ETA: 2:18 - loss: 2.2871 - acc: 0.122 - ETA: 2:17 - loss: 2.2844 - acc: 0.122 - ETA: 2:15 - loss: 2.2801 - acc: 0.125 - ETA: 2:15 - loss: 2.2744 - acc: 0.128 - ETA: 2:13 - loss: 2.2717 - acc: 0.131 - ETA: 2:12 - loss: 2.2658 - acc: 0.133 - ETA: 2:11 - loss: 2.2599 - acc: 0.136 - ETA: 2:10 - loss: 2.2566 - acc: 0.136 - ETA: 2:09 - loss: 2.2538 - acc: 0.137 - ETA: 2:08 - loss: 2.2517 - acc: 0.139 - ETA: 2:07 - loss: 2.2484 - acc: 0.142 - ETA: 2:07 - loss: 2.2412 - acc: 0.145 - ETA: 2:06 - loss: 2.2374 - acc: 0.146 - ETA: 2:05 - loss: 2.2350 - acc: 0.148 - ETA: 2:04 - loss: 2.2328 - acc: 0.148 - ETA: 2:04 - loss: 2.2295 - acc: 0.148 - ETA: 2:03 - loss: 2.2261 - acc: 0.149 - ETA: 2:02 - loss: 2.2219 - acc: 0.153 - ETA: 2:01 - loss: 2.2182 - acc: 0.154 - ETA: 2:01 - loss: 2.2151 - acc: 0.155 - ETA: 2:00 - loss: 2.2112 - acc: 0.157 - ETA: 2:00 - loss: 2.2095 - acc: 0.157 - ETA: 1:59 - loss: 2.2066 - acc: 0.157 - ETA: 1:58 - loss: 2.2023 - acc: 0.159 - ETA: 1:57 - loss: 2.1989 - acc: 0.159 - ETA: 1:57 - loss: 2.1950 - acc: 0.162 - ETA: 1:56 - loss: 2.1909 - acc: 0.164 - ETA: 1:56 - loss: 2.1876 - acc: 0.166 - ETA: 1:55 - loss: 2.1844 - acc: 0.167 - ETA: 1:54 - loss: 2.1813 - acc: 0.169 - ETA: 1:54 - loss: 2.1784 - acc: 0.169 - ETA: 1:53 - loss: 2.1760 - acc: 0.170 - ETA: 1:52 - loss: 2.1739 - acc: 0.172 - ETA: 1:52 - loss: 2.1722 - acc: 0.172 - ETA: 1:51 - loss: 2.1706 - acc: 0.172 - ETA: 1:51 - loss: 2.1683 - acc: 0.174 - ETA: 1:50 - loss: 2.1655 - acc: 0.175 - ETA: 1:50 - loss: 2.1635 - acc: 0.176 - ETA: 1:49 - loss: 2.1611 - acc: 0.177 - ETA: 1:48 - loss: 2.1586 - acc: 0.178 - ETA: 1:48 - loss: 2.1562 - acc: 0.179 - ETA: 1:47 - loss: 2.1551 - acc: 0.180 - ETA: 1:47 - loss: 2.1524 - acc: 0.182 - ETA: 1:46 - loss: 2.1517 - acc: 0.183 - ETA: 1:46 - loss: 2.1509 - acc: 0.183 - ETA: 1:46 - loss: 2.1496 - acc: 0.184 - ETA: 1:46 - loss: 2.1471 - acc: 0.186 - ETA: 1:45 - loss: 2.1453 - acc: 0.186 - ETA: 1:45 - loss: 2.1430 - acc: 0.187 - ETA: 1:45 - loss: 2.1399 - acc: 0.189 - ETA: 1:44 - loss: 2.1386 - acc: 0.190 - ETA: 1:44 - loss: 2.1377 - acc: 0.190 - ETA: 1:50 - loss: 2.1349 - acc: 0.191 - ETA: 1:49 - loss: 2.1345 - acc: 0.191 - ETA: 1:49 - loss: 2.1313 - acc: 0.192 - ETA: 1:48 - loss: 2.1288 - acc: 0.193 - ETA: 1:48 - loss: 2.1293 - acc: 0.193 - ETA: 1:47 - loss: 2.1272 - acc: 0.194 - ETA: 1:47 - loss: 2.1259 - acc: 0.194 - ETA: 1:47 - loss: 2.1239 - acc: 0.195 - ETA: 1:46 - loss: 2.1223 - acc: 0.197 - ETA: 1:46 - loss: 2.1198 - acc: 0.198 - ETA: 1:45 - loss: 2.1178 - acc: 0.198 - ETA: 1:45 - loss: 2.1150 - acc: 0.200 - ETA: 1:44 - loss: 2.1123 - acc: 0.201 - ETA: 1:44 - loss: 2.1109 - acc: 0.201 - ETA: 1:43 - loss: 2.1086 - acc: 0.202 - ETA: 1:43 - loss: 2.1047 - acc: 0.204 - ETA: 1:42 - loss: 2.1018 - acc: 0.205 - ETA: 1:42 - loss: 2.1011 - acc: 0.206 - ETA: 1:41 - loss: 2.1002 - acc: 0.207 - ETA: 1:41 - loss: 2.0987 - acc: 0.208 - ETA: 1:40 - loss: 2.0983 - acc: 0.208 - ETA: 1:40 - loss: 2.0963 - acc: 0.210 - ETA: 1:39 - loss: 2.0936 - acc: 0.211 - ETA: 1:39 - loss: 2.0907 - acc: 0.213 - ETA: 1:38 - loss: 2.0879 - acc: 0.214 - ETA: 1:38 - loss: 2.0857 - acc: 0.215 - ETA: 1:37 - loss: 2.0826 - acc: 0.216 - ETA: 1:37 - loss: 2.0799 - acc: 0.217 - ETA: 1:36 - loss: 2.0771 - acc: 0.217 - ETA: 1:36 - loss: 2.0742 - acc: 0.218 - ETA: 1:35 - loss: 2.0728 - acc: 0.219 - ETA: 1:35 - loss: 2.0703 - acc: 0.220 - ETA: 1:34 - loss: 2.0686 - acc: 0.221 - ETA: 1:34 - loss: 2.0669 - acc: 0.222 - ETA: 1:33 - loss: 2.0659 - acc: 0.222 - ETA: 1:33 - loss: 2.0636 - acc: 0.223 - ETA: 1:32 - loss: 2.0610 - acc: 0.224 - ETA: 1:32 - loss: 2.0584 - acc: 0.225 - ETA: 1:31 - loss: 2.0573 - acc: 0.226 - ETA: 1:30 - loss: 2.0556 - acc: 0.227 - ETA: 1:30 - loss: 2.0526 - acc: 0.228 - ETA: 1:29 - loss: 2.0511 - acc: 0.228 - ETA: 1:29 - loss: 2.0484 - acc: 0.229 - ETA: 1:28 - loss: 2.0476 - acc: 0.230 - ETA: 1:28 - loss: 2.0465 - acc: 0.230 - ETA: 1:27 - loss: 2.0449 - acc: 0.231 - ETA: 1:27 - loss: 2.0433 - acc: 0.231 - ETA: 1:26 - loss: 2.0407 - acc: 0.232 - ETA: 1:25 - loss: 2.0393 - acc: 0.233 - ETA: 1:25 - loss: 2.0372 - acc: 0.234 - ETA: 1:24 - loss: 2.0360 - acc: 0.234 - ETA: 1:24 - loss: 2.0336 - acc: 0.235 - ETA: 1:23 - loss: 2.0314 - acc: 0.236 - ETA: 1:23 - loss: 2.0294 - acc: 0.237 - ETA: 1:22 - loss: 2.0279 - acc: 0.238 - ETA: 1:21 - loss: 2.0258 - acc: 0.239 - ETA: 1:21 - loss: 2.0236 - acc: 0.240 - ETA: 1:20 - loss: 2.0211 - acc: 0.241 - ETA: 1:20 - loss: 2.0197 - acc: 0.241 - ETA: 1:19 - loss: 2.0186 - acc: 0.242 - ETA: 1:19 - loss: 2.0168 - acc: 0.243 - ETA: 1:18 - loss: 2.0148 - acc: 0.244 - ETA: 1:18 - loss: 2.0129 - acc: 0.245 - ETA: 1:17 - loss: 2.0104 - acc: 0.246 - ETA: 1:16 - loss: 2.0086 - acc: 0.246 - ETA: 1:16 - loss: 2.0066 - acc: 0.247 - ETA: 1:15 - loss: 2.0049 - acc: 0.247 - ETA: 1:15 - loss: 2.0039 - acc: 0.248 - ETA: 1:14 - loss: 2.0023 - acc: 0.249 - ETA: 1:14 - loss: 2.0003 - acc: 0.250 - ETA: 1:13 - loss: 1.9992 - acc: 0.250 - ETA: 1:13 - loss: 1.9977 - acc: 0.251 - ETA: 1:12 - loss: 1.9956 - acc: 0.252 - ETA: 1:11 - loss: 1.9940 - acc: 0.252 - ETA: 1:11 - loss: 1.9939 - acc: 0.253 - ETA: 1:10 - loss: 1.9921 - acc: 0.253 - ETA: 1:10 - loss: 1.9903 - acc: 0.254 - ETA: 1:09 - loss: 1.9884 - acc: 0.255 - ETA: 1:09 - loss: 1.9870 - acc: 0.256 - ETA: 1:08 - loss: 1.9861 - acc: 0.256 - ETA: 1:08 - loss: 1.9845 - acc: 0.257 - ETA: 1:07 - loss: 1.9822 - acc: 0.257 - ETA: 1:06 - loss: 1.9800 - acc: 0.258 - ETA: 1:06 - loss: 1.9782 - acc: 0.259 - ETA: 1:05 - loss: 1.9769 - acc: 0.260 - ETA: 1:05 - loss: 1.9745 - acc: 0.261 - ETA: 1:04 - loss: 1.9735 - acc: 0.261 - ETA: 1:04 - loss: 1.9713 - acc: 0.262 - ETA: 1:03 - loss: 1.9691 - acc: 0.263 - ETA: 1:02 - loss: 1.9686 - acc: 0.263 - ETA: 1:02 - loss: 1.9666 - acc: 0.264 - ETA: 1:01 - loss: 1.9648 - acc: 0.265 - ETA: 1:01 - loss: 1.9634 - acc: 0.266 - ETA: 1:00 - loss: 1.9618 - acc: 0.266 - ETA: 1:00 - loss: 1.9593 - acc: 0.268 - ETA: 59s - loss: 1.9578 - acc: 0.268 - ETA: 59s - loss: 1.9556 - acc: 0.26 - ETA: 58s - loss: 1.9549 - acc: 0.26 - ETA: 57s - loss: 1.9541 - acc: 0.26 - ETA: 57s - loss: 1.9527 - acc: 0.27 - ETA: 56s - loss: 1.9512 - acc: 0.27 - ETA: 56s - loss: 1.9506 - acc: 0.27 - ETA: 55s - loss: 1.9498 - acc: 0.27 - ETA: 55s - loss: 1.9488 - acc: 0.27 - ETA: 54s - loss: 1.9475 - acc: 0.27 - ETA: 53s - loss: 1.9461 - acc: 0.27 - ETA: 53s - loss: 1.9445 - acc: 0.27 - ETA: 52s - loss: 1.9432 - acc: 0.27 - ETA: 52s - loss: 1.9417 - acc: 0.27 - ETA: 51s - loss: 1.9400 - acc: 0.27 - ETA: 51s - loss: 1.9395 - acc: 0.27 - ETA: 50s - loss: 1.9371 - acc: 0.27 - ETA: 49s - loss: 1.9354 - acc: 0.27 - ETA: 49s - loss: 1.9342 - acc: 0.27 - ETA: 48s - loss: 1.9330 - acc: 0.27 - ETA: 48s - loss: 1.9312 - acc: 0.27 - ETA: 47s - loss: 1.9300 - acc: 0.27 - ETA: 47s - loss: 1.9285 - acc: 0.27 - ETA: 46s - loss: 1.9279 - acc: 0.27 - ETA: 45s - loss: 1.9269 - acc: 0.28 - ETA: 45s - loss: 1.9251 - acc: 0.28 - ETA: 44s - loss: 1.9226 - acc: 0.28 - ETA: 44s - loss: 1.9208 - acc: 0.28 - ETA: 43s - loss: 1.9193 - acc: 0.28 - ETA: 43s - loss: 1.9181 - acc: 0.28 - ETA: 42s - loss: 1.9158 - acc: 0.28 - ETA: 41s - loss: 1.9149 - acc: 0.28 - ETA: 41s - loss: 1.9137 - acc: 0.28 - ETA: 40s - loss: 1.9119 - acc: 0.28 - ETA: 40s - loss: 1.9110 - acc: 0.28 - ETA: 39s - loss: 1.9098 - acc: 0.28 - ETA: 39s - loss: 1.9094 - acc: 0.28 - ETA: 38s - loss: 1.9083 - acc: 0.2889"
     ]
    },
    {
     "name": "stdout",
     "output_type": "stream",
     "text": [
      "35000/35000 [==============================] - ETA: 37s - loss: 1.9076 - acc: 0.28 - ETA: 37s - loss: 1.9069 - acc: 0.28 - ETA: 36s - loss: 1.9063 - acc: 0.29 - ETA: 36s - loss: 1.9049 - acc: 0.29 - ETA: 35s - loss: 1.9039 - acc: 0.29 - ETA: 35s - loss: 1.9023 - acc: 0.29 - ETA: 34s - loss: 1.9022 - acc: 0.29 - ETA: 33s - loss: 1.9008 - acc: 0.29 - ETA: 33s - loss: 1.8993 - acc: 0.29 - ETA: 32s - loss: 1.8985 - acc: 0.29 - ETA: 32s - loss: 1.8970 - acc: 0.29 - ETA: 31s - loss: 1.8963 - acc: 0.29 - ETA: 31s - loss: 1.8946 - acc: 0.29 - ETA: 30s - loss: 1.8932 - acc: 0.29 - ETA: 29s - loss: 1.8915 - acc: 0.29 - ETA: 29s - loss: 1.8904 - acc: 0.29 - ETA: 28s - loss: 1.8886 - acc: 0.29 - ETA: 28s - loss: 1.8871 - acc: 0.29 - ETA: 27s - loss: 1.8861 - acc: 0.29 - ETA: 27s - loss: 1.8850 - acc: 0.29 - ETA: 26s - loss: 1.8841 - acc: 0.29 - ETA: 25s - loss: 1.8823 - acc: 0.30 - ETA: 25s - loss: 1.8811 - acc: 0.30 - ETA: 24s - loss: 1.8804 - acc: 0.30 - ETA: 24s - loss: 1.8801 - acc: 0.30 - ETA: 23s - loss: 1.8788 - acc: 0.30 - ETA: 23s - loss: 1.8771 - acc: 0.30 - ETA: 22s - loss: 1.8768 - acc: 0.30 - ETA: 21s - loss: 1.8752 - acc: 0.30 - ETA: 21s - loss: 1.8740 - acc: 0.30 - ETA: 20s - loss: 1.8726 - acc: 0.30 - ETA: 20s - loss: 1.8718 - acc: 0.30 - ETA: 19s - loss: 1.8703 - acc: 0.30 - ETA: 19s - loss: 1.8690 - acc: 0.30 - ETA: 18s - loss: 1.8682 - acc: 0.30 - ETA: 17s - loss: 1.8671 - acc: 0.30 - ETA: 17s - loss: 1.8659 - acc: 0.30 - ETA: 16s - loss: 1.8646 - acc: 0.30 - ETA: 16s - loss: 1.8635 - acc: 0.30 - ETA: 15s - loss: 1.8626 - acc: 0.30 - ETA: 15s - loss: 1.8616 - acc: 0.30 - ETA: 14s - loss: 1.8602 - acc: 0.30 - ETA: 13s - loss: 1.8596 - acc: 0.30 - ETA: 13s - loss: 1.8586 - acc: 0.30 - ETA: 12s - loss: 1.8579 - acc: 0.30 - ETA: 12s - loss: 1.8562 - acc: 0.31 - ETA: 11s - loss: 1.8551 - acc: 0.31 - ETA: 11s - loss: 1.8543 - acc: 0.31 - ETA: 10s - loss: 1.8535 - acc: 0.31 - ETA: 9s - loss: 1.8525 - acc: 0.3117 - ETA: 9s - loss: 1.8519 - acc: 0.312 - ETA: 8s - loss: 1.8510 - acc: 0.312 - ETA: 8s - loss: 1.8495 - acc: 0.313 - ETA: 7s - loss: 1.8483 - acc: 0.313 - ETA: 7s - loss: 1.8473 - acc: 0.314 - ETA: 6s - loss: 1.8462 - acc: 0.314 - ETA: 5s - loss: 1.8461 - acc: 0.314 - ETA: 5s - loss: 1.8453 - acc: 0.315 - ETA: 4s - loss: 1.8448 - acc: 0.315 - ETA: 4s - loss: 1.8443 - acc: 0.315 - ETA: 3s - loss: 1.8430 - acc: 0.315 - ETA: 3s - loss: 1.8421 - acc: 0.316 - ETA: 2s - loss: 1.8415 - acc: 0.316 - ETA: 1s - loss: 1.8402 - acc: 0.317 - ETA: 1s - loss: 1.8390 - acc: 0.317 - ETA: 0s - loss: 1.8378 - acc: 0.318 - ETA: 0s - loss: 1.8367 - acc: 0.318 - 182s 5ms/sample - loss: 1.8362 - acc: 0.3189 - val_loss: 1.5065 - val_acc: 0.4516\n",
      "Epoch 2/3\n"
     ]
    },
    {
     "name": "stdout",
     "output_type": "stream",
     "text": [
      "26368/35000 [=====================>........] - ETA: 2:33 - loss: 1.5210 - acc: 0.429 - ETA: 2:31 - loss: 1.5448 - acc: 0.410 - ETA: 2:32 - loss: 1.5265 - acc: 0.437 - ETA: 2:30 - loss: 1.5196 - acc: 0.445 - ETA: 2:31 - loss: 1.5141 - acc: 0.443 - ETA: 2:30 - loss: 1.5267 - acc: 0.440 - ETA: 2:30 - loss: 1.5273 - acc: 0.439 - ETA: 2:29 - loss: 1.5184 - acc: 0.443 - ETA: 2:29 - loss: 1.5325 - acc: 0.441 - ETA: 2:28 - loss: 1.5251 - acc: 0.441 - ETA: 2:28 - loss: 1.5314 - acc: 0.438 - ETA: 2:27 - loss: 1.5314 - acc: 0.438 - ETA: 2:27 - loss: 1.5335 - acc: 0.439 - ETA: 2:26 - loss: 1.5302 - acc: 0.442 - ETA: 2:26 - loss: 1.5334 - acc: 0.440 - ETA: 2:26 - loss: 1.5281 - acc: 0.439 - ETA: 2:25 - loss: 1.5338 - acc: 0.435 - ETA: 2:25 - loss: 1.5289 - acc: 0.437 - ETA: 2:24 - loss: 1.5339 - acc: 0.436 - ETA: 2:23 - loss: 1.5329 - acc: 0.438 - ETA: 2:23 - loss: 1.5376 - acc: 0.439 - ETA: 2:22 - loss: 1.5303 - acc: 0.442 - ETA: 2:21 - loss: 1.5312 - acc: 0.443 - ETA: 2:21 - loss: 1.5284 - acc: 0.446 - ETA: 2:20 - loss: 1.5283 - acc: 0.447 - ETA: 2:19 - loss: 1.5292 - acc: 0.447 - ETA: 2:19 - loss: 1.5264 - acc: 0.448 - ETA: 2:18 - loss: 1.5260 - acc: 0.448 - ETA: 2:18 - loss: 1.5273 - acc: 0.445 - ETA: 2:17 - loss: 1.5287 - acc: 0.445 - ETA: 2:16 - loss: 1.5275 - acc: 0.447 - ETA: 2:16 - loss: 1.5292 - acc: 0.446 - ETA: 2:15 - loss: 1.5282 - acc: 0.446 - ETA: 2:15 - loss: 1.5249 - acc: 0.446 - ETA: 2:14 - loss: 1.5258 - acc: 0.445 - ETA: 2:14 - loss: 1.5271 - acc: 0.444 - ETA: 2:13 - loss: 1.5258 - acc: 0.444 - ETA: 2:13 - loss: 1.5233 - acc: 0.446 - ETA: 2:12 - loss: 1.5202 - acc: 0.447 - ETA: 2:12 - loss: 1.5196 - acc: 0.448 - ETA: 2:11 - loss: 1.5166 - acc: 0.448 - ETA: 2:11 - loss: 1.5173 - acc: 0.448 - ETA: 2:10 - loss: 1.5150 - acc: 0.448 - ETA: 2:10 - loss: 1.5131 - acc: 0.449 - ETA: 2:09 - loss: 1.5112 - acc: 0.450 - ETA: 2:08 - loss: 1.5131 - acc: 0.449 - ETA: 2:08 - loss: 1.5117 - acc: 0.449 - ETA: 2:07 - loss: 1.5135 - acc: 0.448 - ETA: 2:07 - loss: 1.5137 - acc: 0.449 - ETA: 2:06 - loss: 1.5147 - acc: 0.449 - ETA: 2:06 - loss: 1.5104 - acc: 0.451 - ETA: 2:05 - loss: 1.5088 - acc: 0.451 - ETA: 2:05 - loss: 1.5116 - acc: 0.450 - ETA: 2:04 - loss: 1.5098 - acc: 0.451 - ETA: 2:03 - loss: 1.5095 - acc: 0.451 - ETA: 2:03 - loss: 1.5089 - acc: 0.452 - ETA: 2:02 - loss: 1.5106 - acc: 0.450 - ETA: 2:02 - loss: 1.5113 - acc: 0.450 - ETA: 2:01 - loss: 1.5100 - acc: 0.451 - ETA: 2:01 - loss: 1.5082 - acc: 0.452 - ETA: 2:00 - loss: 1.5102 - acc: 0.451 - ETA: 2:00 - loss: 1.5095 - acc: 0.451 - ETA: 1:59 - loss: 1.5087 - acc: 0.451 - ETA: 1:58 - loss: 1.5092 - acc: 0.452 - ETA: 1:58 - loss: 1.5075 - acc: 0.452 - ETA: 1:57 - loss: 1.5062 - acc: 0.452 - ETA: 1:57 - loss: 1.5065 - acc: 0.452 - ETA: 1:56 - loss: 1.5057 - acc: 0.452 - ETA: 1:56 - loss: 1.5057 - acc: 0.451 - ETA: 1:55 - loss: 1.5044 - acc: 0.451 - ETA: 1:55 - loss: 1.5043 - acc: 0.451 - ETA: 1:54 - loss: 1.5056 - acc: 0.450 - ETA: 1:53 - loss: 1.5053 - acc: 0.450 - ETA: 1:53 - loss: 1.5038 - acc: 0.450 - ETA: 1:52 - loss: 1.5046 - acc: 0.451 - ETA: 1:52 - loss: 1.5031 - acc: 0.451 - ETA: 1:51 - loss: 1.5042 - acc: 0.450 - ETA: 1:51 - loss: 1.5056 - acc: 0.450 - ETA: 1:50 - loss: 1.5056 - acc: 0.450 - ETA: 1:50 - loss: 1.5052 - acc: 0.450 - ETA: 1:49 - loss: 1.5049 - acc: 0.450 - ETA: 1:48 - loss: 1.5050 - acc: 0.449 - ETA: 1:48 - loss: 1.5042 - acc: 0.450 - ETA: 1:47 - loss: 1.5025 - acc: 0.450 - ETA: 1:47 - loss: 1.5032 - acc: 0.449 - ETA: 1:46 - loss: 1.5021 - acc: 0.450 - ETA: 1:46 - loss: 1.5019 - acc: 0.450 - ETA: 1:45 - loss: 1.5006 - acc: 0.450 - ETA: 1:44 - loss: 1.4991 - acc: 0.451 - ETA: 1:44 - loss: 1.4986 - acc: 0.451 - ETA: 1:43 - loss: 1.4988 - acc: 0.451 - ETA: 1:43 - loss: 1.4988 - acc: 0.450 - ETA: 1:42 - loss: 1.4982 - acc: 0.450 - ETA: 1:42 - loss: 1.4977 - acc: 0.451 - ETA: 1:41 - loss: 1.4979 - acc: 0.451 - ETA: 1:40 - loss: 1.4992 - acc: 0.451 - ETA: 1:40 - loss: 1.4994 - acc: 0.451 - ETA: 1:39 - loss: 1.4981 - acc: 0.451 - ETA: 1:39 - loss: 1.4967 - acc: 0.452 - ETA: 1:38 - loss: 1.4963 - acc: 0.453 - ETA: 1:38 - loss: 1.4957 - acc: 0.453 - ETA: 1:37 - loss: 1.4968 - acc: 0.452 - ETA: 1:36 - loss: 1.4971 - acc: 0.452 - ETA: 1:36 - loss: 1.4975 - acc: 0.453 - ETA: 1:35 - loss: 1.4965 - acc: 0.453 - ETA: 1:35 - loss: 1.4951 - acc: 0.454 - ETA: 1:34 - loss: 1.4949 - acc: 0.454 - ETA: 1:34 - loss: 1.4957 - acc: 0.454 - ETA: 1:33 - loss: 1.4949 - acc: 0.454 - ETA: 1:32 - loss: 1.4952 - acc: 0.454 - ETA: 1:32 - loss: 1.4948 - acc: 0.454 - ETA: 1:31 - loss: 1.4931 - acc: 0.455 - ETA: 1:31 - loss: 1.4927 - acc: 0.455 - ETA: 1:30 - loss: 1.4922 - acc: 0.455 - ETA: 1:30 - loss: 1.4916 - acc: 0.456 - ETA: 1:29 - loss: 1.4913 - acc: 0.456 - ETA: 1:29 - loss: 1.4911 - acc: 0.456 - ETA: 1:28 - loss: 1.4909 - acc: 0.456 - ETA: 1:27 - loss: 1.4912 - acc: 0.456 - ETA: 1:27 - loss: 1.4908 - acc: 0.456 - ETA: 1:26 - loss: 1.4897 - acc: 0.457 - ETA: 1:26 - loss: 1.4899 - acc: 0.456 - ETA: 1:25 - loss: 1.4900 - acc: 0.456 - ETA: 1:25 - loss: 1.4888 - acc: 0.457 - ETA: 1:24 - loss: 1.4894 - acc: 0.456 - ETA: 1:23 - loss: 1.4901 - acc: 0.456 - ETA: 1:23 - loss: 1.4892 - acc: 0.456 - ETA: 1:22 - loss: 1.4882 - acc: 0.456 - ETA: 1:22 - loss: 1.4881 - acc: 0.457 - ETA: 1:21 - loss: 1.4883 - acc: 0.457 - ETA: 1:21 - loss: 1.4878 - acc: 0.457 - ETA: 1:20 - loss: 1.4873 - acc: 0.458 - ETA: 1:19 - loss: 1.4865 - acc: 0.458 - ETA: 1:19 - loss: 1.4862 - acc: 0.458 - ETA: 1:18 - loss: 1.4866 - acc: 0.458 - ETA: 1:18 - loss: 1.4859 - acc: 0.458 - ETA: 1:17 - loss: 1.4850 - acc: 0.459 - ETA: 1:17 - loss: 1.4836 - acc: 0.459 - ETA: 1:16 - loss: 1.4833 - acc: 0.459 - ETA: 1:16 - loss: 1.4839 - acc: 0.459 - ETA: 1:15 - loss: 1.4832 - acc: 0.459 - ETA: 1:14 - loss: 1.4832 - acc: 0.460 - ETA: 1:14 - loss: 1.4828 - acc: 0.460 - ETA: 1:13 - loss: 1.4836 - acc: 0.460 - ETA: 1:13 - loss: 1.4843 - acc: 0.460 - ETA: 1:12 - loss: 1.4830 - acc: 0.460 - ETA: 1:12 - loss: 1.4817 - acc: 0.460 - ETA: 1:11 - loss: 1.4807 - acc: 0.461 - ETA: 1:10 - loss: 1.4800 - acc: 0.461 - ETA: 1:10 - loss: 1.4796 - acc: 0.461 - ETA: 1:09 - loss: 1.4790 - acc: 0.461 - ETA: 1:09 - loss: 1.4780 - acc: 0.462 - ETA: 1:08 - loss: 1.4774 - acc: 0.462 - ETA: 1:08 - loss: 1.4758 - acc: 0.462 - ETA: 1:07 - loss: 1.4762 - acc: 0.462 - ETA: 1:06 - loss: 1.4757 - acc: 0.463 - ETA: 1:06 - loss: 1.4744 - acc: 0.463 - ETA: 1:05 - loss: 1.4742 - acc: 0.463 - ETA: 1:05 - loss: 1.4730 - acc: 0.464 - ETA: 1:04 - loss: 1.4735 - acc: 0.464 - ETA: 1:04 - loss: 1.4735 - acc: 0.463 - ETA: 1:03 - loss: 1.4720 - acc: 0.464 - ETA: 1:02 - loss: 1.4722 - acc: 0.464 - ETA: 1:02 - loss: 1.4720 - acc: 0.464 - ETA: 1:01 - loss: 1.4724 - acc: 0.464 - ETA: 1:01 - loss: 1.4711 - acc: 0.464 - ETA: 1:00 - loss: 1.4708 - acc: 0.464 - ETA: 59s - loss: 1.4697 - acc: 0.464 - ETA: 59s - loss: 1.4696 - acc: 0.46 - ETA: 58s - loss: 1.4694 - acc: 0.46 - ETA: 58s - loss: 1.4687 - acc: 0.46 - ETA: 57s - loss: 1.4674 - acc: 0.46 - ETA: 57s - loss: 1.4669 - acc: 0.46 - ETA: 56s - loss: 1.4668 - acc: 0.46 - ETA: 56s - loss: 1.4674 - acc: 0.46 - ETA: 55s - loss: 1.4673 - acc: 0.46 - ETA: 54s - loss: 1.4673 - acc: 0.46 - ETA: 54s - loss: 1.4674 - acc: 0.46 - ETA: 53s - loss: 1.4668 - acc: 0.46 - ETA: 53s - loss: 1.4663 - acc: 0.46 - ETA: 52s - loss: 1.4652 - acc: 0.46 - ETA: 52s - loss: 1.4654 - acc: 0.46 - ETA: 51s - loss: 1.4651 - acc: 0.46 - ETA: 50s - loss: 1.4642 - acc: 0.46 - ETA: 50s - loss: 1.4633 - acc: 0.46 - ETA: 49s - loss: 1.4636 - acc: 0.46 - ETA: 49s - loss: 1.4628 - acc: 0.46 - ETA: 48s - loss: 1.4626 - acc: 0.46 - ETA: 48s - loss: 1.4623 - acc: 0.46 - ETA: 47s - loss: 1.4616 - acc: 0.46 - ETA: 46s - loss: 1.4607 - acc: 0.46 - ETA: 46s - loss: 1.4597 - acc: 0.46 - ETA: 45s - loss: 1.4589 - acc: 0.46 - ETA: 45s - loss: 1.4585 - acc: 0.46 - ETA: 44s - loss: 1.4583 - acc: 0.46 - ETA: 44s - loss: 1.4578 - acc: 0.46 - ETA: 43s - loss: 1.4574 - acc: 0.46 - ETA: 42s - loss: 1.4577 - acc: 0.46 - ETA: 42s - loss: 1.4568 - acc: 0.47 - ETA: 41s - loss: 1.4567 - acc: 0.47 - ETA: 41s - loss: 1.4568 - acc: 0.47 - ETA: 40s - loss: 1.4561 - acc: 0.47 - ETA: 40s - loss: 1.4559 - acc: 0.47 - ETA: 39s - loss: 1.4561 - acc: 0.47 - ETA: 38s - loss: 1.4565 - acc: 0.47 - ETA: 38s - loss: 1.4562 - acc: 0.4708"
     ]
    },
    {
     "name": "stdout",
     "output_type": "stream",
     "text": [
      "35000/35000 [==============================] - ETA: 37s - loss: 1.4560 - acc: 0.47 - ETA: 37s - loss: 1.4556 - acc: 0.47 - ETA: 36s - loss: 1.4552 - acc: 0.47 - ETA: 36s - loss: 1.4547 - acc: 0.47 - ETA: 35s - loss: 1.4542 - acc: 0.47 - ETA: 34s - loss: 1.4540 - acc: 0.47 - ETA: 34s - loss: 1.4537 - acc: 0.47 - ETA: 33s - loss: 1.4534 - acc: 0.47 - ETA: 33s - loss: 1.4525 - acc: 0.47 - ETA: 32s - loss: 1.4521 - acc: 0.47 - ETA: 32s - loss: 1.4520 - acc: 0.47 - ETA: 31s - loss: 1.4515 - acc: 0.47 - ETA: 31s - loss: 1.4512 - acc: 0.47 - ETA: 30s - loss: 1.4509 - acc: 0.47 - ETA: 29s - loss: 1.4508 - acc: 0.47 - ETA: 29s - loss: 1.4497 - acc: 0.47 - ETA: 28s - loss: 1.4488 - acc: 0.47 - ETA: 28s - loss: 1.4484 - acc: 0.47 - ETA: 27s - loss: 1.4482 - acc: 0.47 - ETA: 27s - loss: 1.4476 - acc: 0.47 - ETA: 26s - loss: 1.4459 - acc: 0.47 - ETA: 25s - loss: 1.4456 - acc: 0.47 - ETA: 25s - loss: 1.4454 - acc: 0.47 - ETA: 24s - loss: 1.4457 - acc: 0.47 - ETA: 24s - loss: 1.4458 - acc: 0.47 - ETA: 23s - loss: 1.4459 - acc: 0.47 - ETA: 23s - loss: 1.4459 - acc: 0.47 - ETA: 22s - loss: 1.4457 - acc: 0.47 - ETA: 21s - loss: 1.4463 - acc: 0.47 - ETA: 21s - loss: 1.4469 - acc: 0.47 - ETA: 20s - loss: 1.4468 - acc: 0.47 - ETA: 20s - loss: 1.4462 - acc: 0.47 - ETA: 19s - loss: 1.4461 - acc: 0.47 - ETA: 19s - loss: 1.4460 - acc: 0.47 - ETA: 18s - loss: 1.4457 - acc: 0.47 - ETA: 17s - loss: 1.4456 - acc: 0.47 - ETA: 17s - loss: 1.4455 - acc: 0.47 - ETA: 16s - loss: 1.4449 - acc: 0.47 - ETA: 16s - loss: 1.4447 - acc: 0.47 - ETA: 15s - loss: 1.4440 - acc: 0.47 - ETA: 15s - loss: 1.4440 - acc: 0.47 - ETA: 14s - loss: 1.4433 - acc: 0.47 - ETA: 13s - loss: 1.4431 - acc: 0.47 - ETA: 13s - loss: 1.4424 - acc: 0.47 - ETA: 12s - loss: 1.4422 - acc: 0.47 - ETA: 12s - loss: 1.4416 - acc: 0.47 - ETA: 11s - loss: 1.4406 - acc: 0.47 - ETA: 11s - loss: 1.4399 - acc: 0.47 - ETA: 10s - loss: 1.4388 - acc: 0.47 - ETA: 9s - loss: 1.4388 - acc: 0.4773 - ETA: 9s - loss: 1.4381 - acc: 0.477 - ETA: 8s - loss: 1.4386 - acc: 0.477 - ETA: 8s - loss: 1.4379 - acc: 0.477 - ETA: 7s - loss: 1.4370 - acc: 0.477 - ETA: 7s - loss: 1.4365 - acc: 0.477 - ETA: 6s - loss: 1.4355 - acc: 0.477 - ETA: 5s - loss: 1.4351 - acc: 0.478 - ETA: 5s - loss: 1.4349 - acc: 0.478 - ETA: 4s - loss: 1.4344 - acc: 0.478 - ETA: 4s - loss: 1.4335 - acc: 0.478 - ETA: 3s - loss: 1.4329 - acc: 0.478 - ETA: 3s - loss: 1.4326 - acc: 0.478 - ETA: 2s - loss: 1.4325 - acc: 0.478 - ETA: 1s - loss: 1.4321 - acc: 0.478 - ETA: 1s - loss: 1.4317 - acc: 0.478 - ETA: 0s - loss: 1.4314 - acc: 0.478 - ETA: 0s - loss: 1.4314 - acc: 0.478 - 180s 5ms/sample - loss: 1.4314 - acc: 0.4789 - val_loss: 1.2525 - val_acc: 0.5515\n",
      "Epoch 3/3\n"
     ]
    },
    {
     "name": "stdout",
     "output_type": "stream",
     "text": [
      "26368/35000 [=====================>........] - ETA: 2:28 - loss: 1.1855 - acc: 0.609 - ETA: 2:29 - loss: 1.1790 - acc: 0.605 - ETA: 2:33 - loss: 1.2346 - acc: 0.565 - ETA: 2:33 - loss: 1.2539 - acc: 0.548 - ETA: 2:32 - loss: 1.2736 - acc: 0.543 - ETA: 2:31 - loss: 1.3044 - acc: 0.523 - ETA: 2:30 - loss: 1.3079 - acc: 0.520 - ETA: 2:30 - loss: 1.3144 - acc: 0.523 - ETA: 2:30 - loss: 1.3121 - acc: 0.524 - ETA: 2:28 - loss: 1.3005 - acc: 0.528 - ETA: 2:28 - loss: 1.3044 - acc: 0.530 - ETA: 2:28 - loss: 1.2943 - acc: 0.533 - ETA: 2:28 - loss: 1.2986 - acc: 0.537 - ETA: 2:27 - loss: 1.3020 - acc: 0.535 - ETA: 2:26 - loss: 1.3001 - acc: 0.539 - ETA: 2:26 - loss: 1.2961 - acc: 0.541 - ETA: 2:25 - loss: 1.2919 - acc: 0.540 - ETA: 2:24 - loss: 1.2910 - acc: 0.542 - ETA: 2:24 - loss: 1.2913 - acc: 0.541 - ETA: 2:23 - loss: 1.2907 - acc: 0.544 - ETA: 2:23 - loss: 1.2821 - acc: 0.545 - ETA: 2:22 - loss: 1.2783 - acc: 0.544 - ETA: 2:22 - loss: 1.2821 - acc: 0.542 - ETA: 2:21 - loss: 1.2812 - acc: 0.541 - ETA: 2:21 - loss: 1.2815 - acc: 0.539 - ETA: 2:20 - loss: 1.2797 - acc: 0.538 - ETA: 2:19 - loss: 1.2851 - acc: 0.538 - ETA: 2:19 - loss: 1.2813 - acc: 0.538 - ETA: 2:19 - loss: 1.2868 - acc: 0.537 - ETA: 2:19 - loss: 1.2949 - acc: 0.536 - ETA: 2:18 - loss: 1.2940 - acc: 0.539 - ETA: 2:17 - loss: 1.2939 - acc: 0.539 - ETA: 2:17 - loss: 1.3007 - acc: 0.538 - ETA: 2:16 - loss: 1.2998 - acc: 0.539 - ETA: 2:16 - loss: 1.2998 - acc: 0.540 - ETA: 2:15 - loss: 1.2959 - acc: 0.540 - ETA: 2:16 - loss: 1.2973 - acc: 0.539 - ETA: 2:16 - loss: 1.2985 - acc: 0.539 - ETA: 2:16 - loss: 1.2968 - acc: 0.540 - ETA: 2:15 - loss: 1.2949 - acc: 0.541 - ETA: 2:15 - loss: 1.2933 - acc: 0.542 - ETA: 2:15 - loss: 1.2908 - acc: 0.542 - ETA: 2:14 - loss: 1.2908 - acc: 0.542 - ETA: 2:13 - loss: 1.2912 - acc: 0.540 - ETA: 2:12 - loss: 1.2890 - acc: 0.542 - ETA: 2:12 - loss: 1.2882 - acc: 0.541 - ETA: 2:11 - loss: 1.2855 - acc: 0.542 - ETA: 2:10 - loss: 1.2848 - acc: 0.542 - ETA: 2:10 - loss: 1.2838 - acc: 0.542 - ETA: 2:09 - loss: 1.2880 - acc: 0.540 - ETA: 2:09 - loss: 1.2892 - acc: 0.539 - ETA: 2:08 - loss: 1.2867 - acc: 0.539 - ETA: 2:07 - loss: 1.2866 - acc: 0.539 - ETA: 2:07 - loss: 1.2904 - acc: 0.536 - ETA: 2:06 - loss: 1.2909 - acc: 0.536 - ETA: 2:06 - loss: 1.2921 - acc: 0.535 - ETA: 2:05 - loss: 1.2942 - acc: 0.534 - ETA: 2:05 - loss: 1.2950 - acc: 0.533 - ETA: 2:04 - loss: 1.2927 - acc: 0.535 - ETA: 2:03 - loss: 1.2931 - acc: 0.535 - ETA: 2:02 - loss: 1.2933 - acc: 0.536 - ETA: 2:01 - loss: 1.2954 - acc: 0.534 - ETA: 2:00 - loss: 1.2949 - acc: 0.535 - ETA: 1:59 - loss: 1.2951 - acc: 0.534 - ETA: 1:58 - loss: 1.2967 - acc: 0.534 - ETA: 1:57 - loss: 1.2956 - acc: 0.534 - ETA: 1:56 - loss: 1.2941 - acc: 0.534 - ETA: 1:55 - loss: 1.2939 - acc: 0.534 - ETA: 1:54 - loss: 1.2928 - acc: 0.535 - ETA: 1:54 - loss: 1.2917 - acc: 0.536 - ETA: 1:53 - loss: 1.2912 - acc: 0.535 - ETA: 1:52 - loss: 1.2927 - acc: 0.534 - ETA: 1:51 - loss: 1.2938 - acc: 0.534 - ETA: 1:50 - loss: 1.2932 - acc: 0.534 - ETA: 1:49 - loss: 1.2910 - acc: 0.534 - ETA: 1:49 - loss: 1.2899 - acc: 0.534 - ETA: 1:48 - loss: 1.2915 - acc: 0.533 - ETA: 1:48 - loss: 1.2912 - acc: 0.533 - ETA: 1:47 - loss: 1.2922 - acc: 0.532 - ETA: 1:47 - loss: 1.2928 - acc: 0.532 - ETA: 1:47 - loss: 1.2930 - acc: 0.532 - ETA: 1:47 - loss: 1.2944 - acc: 0.531 - ETA: 1:46 - loss: 1.2948 - acc: 0.532 - ETA: 1:46 - loss: 1.2970 - acc: 0.532 - ETA: 1:46 - loss: 1.2978 - acc: 0.532 - ETA: 1:45 - loss: 1.2964 - acc: 0.532 - ETA: 1:45 - loss: 1.2974 - acc: 0.531 - ETA: 1:44 - loss: 1.2980 - acc: 0.532 - ETA: 1:44 - loss: 1.2993 - acc: 0.531 - ETA: 1:43 - loss: 1.2997 - acc: 0.532 - ETA: 1:42 - loss: 1.3002 - acc: 0.532 - ETA: 1:42 - loss: 1.2980 - acc: 0.532 - ETA: 1:41 - loss: 1.2987 - acc: 0.532 - ETA: 1:41 - loss: 1.2979 - acc: 0.533 - ETA: 1:40 - loss: 1.2972 - acc: 0.533 - ETA: 1:40 - loss: 1.2969 - acc: 0.534 - ETA: 1:39 - loss: 1.2960 - acc: 0.535 - ETA: 1:38 - loss: 1.2947 - acc: 0.536 - ETA: 1:38 - loss: 1.2936 - acc: 0.536 - ETA: 1:37 - loss: 1.2927 - acc: 0.536 - ETA: 1:37 - loss: 1.2910 - acc: 0.536 - ETA: 1:36 - loss: 1.2919 - acc: 0.536 - ETA: 1:36 - loss: 1.2925 - acc: 0.537 - ETA: 1:35 - loss: 1.2932 - acc: 0.536 - ETA: 1:35 - loss: 1.2925 - acc: 0.536 - ETA: 1:34 - loss: 1.2899 - acc: 0.537 - ETA: 1:33 - loss: 1.2900 - acc: 0.538 - ETA: 1:33 - loss: 1.2904 - acc: 0.538 - ETA: 1:32 - loss: 1.2922 - acc: 0.537 - ETA: 1:32 - loss: 1.2921 - acc: 0.537 - ETA: 1:31 - loss: 1.2917 - acc: 0.537 - ETA: 1:31 - loss: 1.2916 - acc: 0.537 - ETA: 1:30 - loss: 1.2927 - acc: 0.537 - ETA: 1:30 - loss: 1.2911 - acc: 0.538 - ETA: 1:29 - loss: 1.2909 - acc: 0.538 - ETA: 1:29 - loss: 1.2908 - acc: 0.538 - ETA: 1:28 - loss: 1.2909 - acc: 0.538 - ETA: 1:27 - loss: 1.2906 - acc: 0.538 - ETA: 1:27 - loss: 1.2889 - acc: 0.538 - ETA: 1:26 - loss: 1.2888 - acc: 0.539 - ETA: 1:26 - loss: 1.2905 - acc: 0.539 - ETA: 1:25 - loss: 1.2921 - acc: 0.538 - ETA: 1:25 - loss: 1.2913 - acc: 0.538 - ETA: 1:24 - loss: 1.2908 - acc: 0.538 - ETA: 1:24 - loss: 1.2912 - acc: 0.538 - ETA: 1:23 - loss: 1.2914 - acc: 0.538 - ETA: 1:22 - loss: 1.2917 - acc: 0.538 - ETA: 1:22 - loss: 1.2928 - acc: 0.538 - ETA: 1:21 - loss: 1.2922 - acc: 0.538 - ETA: 1:21 - loss: 1.2919 - acc: 0.538 - ETA: 1:20 - loss: 1.2920 - acc: 0.538 - ETA: 1:20 - loss: 1.2915 - acc: 0.538 - ETA: 1:19 - loss: 1.2912 - acc: 0.538 - ETA: 1:19 - loss: 1.2900 - acc: 0.538 - ETA: 1:18 - loss: 1.2888 - acc: 0.539 - ETA: 1:17 - loss: 1.2891 - acc: 0.539 - ETA: 1:17 - loss: 1.2887 - acc: 0.539 - ETA: 1:16 - loss: 1.2883 - acc: 0.539 - ETA: 1:16 - loss: 1.2874 - acc: 0.540 - ETA: 1:15 - loss: 1.2881 - acc: 0.540 - ETA: 1:15 - loss: 1.2862 - acc: 0.540 - ETA: 1:14 - loss: 1.2855 - acc: 0.541 - ETA: 1:13 - loss: 1.2853 - acc: 0.540 - ETA: 1:13 - loss: 1.2848 - acc: 0.540 - ETA: 1:12 - loss: 1.2845 - acc: 0.541 - ETA: 1:12 - loss: 1.2851 - acc: 0.540 - ETA: 1:11 - loss: 1.2849 - acc: 0.540 - ETA: 1:11 - loss: 1.2854 - acc: 0.540 - ETA: 1:10 - loss: 1.2853 - acc: 0.540 - ETA: 1:10 - loss: 1.2864 - acc: 0.540 - ETA: 1:09 - loss: 1.2865 - acc: 0.540 - ETA: 1:08 - loss: 1.2864 - acc: 0.539 - ETA: 1:08 - loss: 1.2865 - acc: 0.540 - ETA: 1:07 - loss: 1.2867 - acc: 0.540 - ETA: 1:07 - loss: 1.2872 - acc: 0.540 - ETA: 1:06 - loss: 1.2862 - acc: 0.540 - ETA: 1:06 - loss: 1.2860 - acc: 0.540 - ETA: 1:05 - loss: 1.2853 - acc: 0.540 - ETA: 1:04 - loss: 1.2838 - acc: 0.540 - ETA: 1:04 - loss: 1.2834 - acc: 0.541 - ETA: 1:03 - loss: 1.2836 - acc: 0.541 - ETA: 1:03 - loss: 1.2842 - acc: 0.540 - ETA: 1:02 - loss: 1.2835 - acc: 0.541 - ETA: 1:02 - loss: 1.2840 - acc: 0.541 - ETA: 1:01 - loss: 1.2833 - acc: 0.541 - ETA: 1:00 - loss: 1.2821 - acc: 0.542 - ETA: 1:00 - loss: 1.2824 - acc: 0.542 - ETA: 59s - loss: 1.2820 - acc: 0.542 - ETA: 59s - loss: 1.2823 - acc: 0.54 - ETA: 58s - loss: 1.2818 - acc: 0.54 - ETA: 58s - loss: 1.2814 - acc: 0.54 - ETA: 57s - loss: 1.2815 - acc: 0.54 - ETA: 56s - loss: 1.2805 - acc: 0.54 - ETA: 56s - loss: 1.2802 - acc: 0.54 - ETA: 55s - loss: 1.2813 - acc: 0.54 - ETA: 55s - loss: 1.2804 - acc: 0.54 - ETA: 54s - loss: 1.2807 - acc: 0.54 - ETA: 54s - loss: 1.2808 - acc: 0.54 - ETA: 53s - loss: 1.2801 - acc: 0.54 - ETA: 53s - loss: 1.2813 - acc: 0.54 - ETA: 52s - loss: 1.2799 - acc: 0.54 - ETA: 51s - loss: 1.2800 - acc: 0.54 - ETA: 51s - loss: 1.2798 - acc: 0.54 - ETA: 50s - loss: 1.2798 - acc: 0.54 - ETA: 50s - loss: 1.2789 - acc: 0.54 - ETA: 49s - loss: 1.2785 - acc: 0.54 - ETA: 49s - loss: 1.2774 - acc: 0.54 - ETA: 48s - loss: 1.2776 - acc: 0.54 - ETA: 47s - loss: 1.2771 - acc: 0.54 - ETA: 47s - loss: 1.2766 - acc: 0.54 - ETA: 46s - loss: 1.2768 - acc: 0.54 - ETA: 46s - loss: 1.2767 - acc: 0.54 - ETA: 45s - loss: 1.2775 - acc: 0.54 - ETA: 45s - loss: 1.2769 - acc: 0.54 - ETA: 44s - loss: 1.2766 - acc: 0.54 - ETA: 43s - loss: 1.2761 - acc: 0.54 - ETA: 43s - loss: 1.2758 - acc: 0.54 - ETA: 42s - loss: 1.2757 - acc: 0.54 - ETA: 42s - loss: 1.2752 - acc: 0.54 - ETA: 41s - loss: 1.2757 - acc: 0.54 - ETA: 41s - loss: 1.2754 - acc: 0.54 - ETA: 40s - loss: 1.2753 - acc: 0.54 - ETA: 40s - loss: 1.2751 - acc: 0.54 - ETA: 39s - loss: 1.2746 - acc: 0.54 - ETA: 38s - loss: 1.2742 - acc: 0.54 - ETA: 38s - loss: 1.2736 - acc: 0.5455"
     ]
    },
    {
     "name": "stdout",
     "output_type": "stream",
     "text": [
      "35000/35000 [==============================] - ETA: 37s - loss: 1.2733 - acc: 0.54 - ETA: 37s - loss: 1.2730 - acc: 0.54 - ETA: 36s - loss: 1.2720 - acc: 0.54 - ETA: 36s - loss: 1.2713 - acc: 0.54 - ETA: 35s - loss: 1.2719 - acc: 0.54 - ETA: 34s - loss: 1.2723 - acc: 0.54 - ETA: 34s - loss: 1.2722 - acc: 0.54 - ETA: 33s - loss: 1.2722 - acc: 0.54 - ETA: 33s - loss: 1.2716 - acc: 0.54 - ETA: 32s - loss: 1.2710 - acc: 0.54 - ETA: 32s - loss: 1.2717 - acc: 0.54 - ETA: 31s - loss: 1.2716 - acc: 0.54 - ETA: 30s - loss: 1.2716 - acc: 0.54 - ETA: 30s - loss: 1.2721 - acc: 0.54 - ETA: 29s - loss: 1.2717 - acc: 0.54 - ETA: 29s - loss: 1.2714 - acc: 0.54 - ETA: 28s - loss: 1.2712 - acc: 0.54 - ETA: 28s - loss: 1.2709 - acc: 0.54 - ETA: 27s - loss: 1.2707 - acc: 0.54 - ETA: 26s - loss: 1.2700 - acc: 0.54 - ETA: 26s - loss: 1.2706 - acc: 0.54 - ETA: 25s - loss: 1.2701 - acc: 0.54 - ETA: 25s - loss: 1.2699 - acc: 0.54 - ETA: 24s - loss: 1.2694 - acc: 0.54 - ETA: 24s - loss: 1.2699 - acc: 0.54 - ETA: 23s - loss: 1.2697 - acc: 0.54 - ETA: 22s - loss: 1.2690 - acc: 0.54 - ETA: 22s - loss: 1.2686 - acc: 0.54 - ETA: 21s - loss: 1.2695 - acc: 0.54 - ETA: 21s - loss: 1.2697 - acc: 0.54 - ETA: 20s - loss: 1.2699 - acc: 0.54 - ETA: 20s - loss: 1.2700 - acc: 0.54 - ETA: 19s - loss: 1.2697 - acc: 0.54 - ETA: 19s - loss: 1.2695 - acc: 0.54 - ETA: 18s - loss: 1.2693 - acc: 0.54 - ETA: 17s - loss: 1.2687 - acc: 0.54 - ETA: 17s - loss: 1.2684 - acc: 0.54 - ETA: 16s - loss: 1.2683 - acc: 0.54 - ETA: 16s - loss: 1.2681 - acc: 0.54 - ETA: 15s - loss: 1.2677 - acc: 0.54 - ETA: 15s - loss: 1.2672 - acc: 0.54 - ETA: 14s - loss: 1.2675 - acc: 0.54 - ETA: 13s - loss: 1.2671 - acc: 0.54 - ETA: 13s - loss: 1.2671 - acc: 0.54 - ETA: 12s - loss: 1.2671 - acc: 0.54 - ETA: 12s - loss: 1.2665 - acc: 0.54 - ETA: 11s - loss: 1.2660 - acc: 0.54 - ETA: 11s - loss: 1.2654 - acc: 0.54 - ETA: 10s - loss: 1.2649 - acc: 0.54 - ETA: 9s - loss: 1.2644 - acc: 0.5487 - ETA: 9s - loss: 1.2645 - acc: 0.548 - ETA: 8s - loss: 1.2646 - acc: 0.548 - ETA: 8s - loss: 1.2645 - acc: 0.548 - ETA: 7s - loss: 1.2641 - acc: 0.548 - ETA: 7s - loss: 1.2640 - acc: 0.548 - ETA: 6s - loss: 1.2634 - acc: 0.549 - ETA: 5s - loss: 1.2633 - acc: 0.549 - ETA: 5s - loss: 1.2632 - acc: 0.548 - ETA: 4s - loss: 1.2631 - acc: 0.548 - ETA: 4s - loss: 1.2629 - acc: 0.549 - ETA: 3s - loss: 1.2623 - acc: 0.549 - ETA: 3s - loss: 1.2628 - acc: 0.549 - ETA: 2s - loss: 1.2626 - acc: 0.549 - ETA: 1s - loss: 1.2623 - acc: 0.549 - ETA: 1s - loss: 1.2619 - acc: 0.549 - ETA: 0s - loss: 1.2621 - acc: 0.549 - ETA: 0s - loss: 1.2618 - acc: 0.549 - 180s 5ms/sample - loss: 1.2620 - acc: 0.5493 - val_loss: 1.1254 - val_acc: 0.6021\n"
     ]
    },
    {
     "data": {
      "text/plain": [
       "<tensorflow.python.keras.callbacks.History at 0x22f064e6ef0>"
      ]
     },
     "execution_count": 48,
     "metadata": {},
     "output_type": "execute_result"
    }
   ],
   "source": [
    "model.fit(X_train, y_train, batch_size=128, epochs=3, validation_split=0.3)"
   ]
  },
  {
   "cell_type": "code",
   "execution_count": 49,
   "metadata": {},
   "outputs": [],
   "source": [
    "model.save('ImageClass')"
   ]
  },
  {
   "cell_type": "code",
   "execution_count": 50,
   "metadata": {},
   "outputs": [
    {
     "data": {
      "text/plain": [
       "<matplotlib.axes._subplots.AxesSubplot at 0x22f06a6f1d0>"
      ]
     },
     "execution_count": 50,
     "metadata": {},
     "output_type": "execute_result"
    },
    {
     "data": {
      "image/png": "[encoded data removed]",
      "text/plain": [
       "<Figure size 432x288 with 1 Axes>"
      ]
     },
     "metadata": {
      "image/png": {
       "height": 250,
       "width": 383
      },
      "needs_background": "light"
     },
     "output_type": "display_data"
    }
   ],
   "source": [
    "import pandas as pd\n",
    "losses = pd.DataFrame(model.history.history)\n",
    "losses.plot()"
   ]
  },
  {
   "cell_type": "code",
   "execution_count": 51,
   "metadata": {},
   "outputs": [],
   "source": [
    "import tensorflow\n",
    "new_model = tensorflow.keras.models.load_model('ImageClass')"
   ]
  },
  {
   "cell_type": "markdown",
   "metadata": {},
   "source": [
    "### Now test based on predictions"
   ]
  },
  {
   "cell_type": "code",
   "execution_count": 52,
   "metadata": {},
   "outputs": [],
   "source": [
    "preds = new_model.predict(X_test)"
   ]
  },
  {
   "cell_type": "code",
   "execution_count": 53,
   "metadata": {},
   "outputs": [
    {
     "data": {
      "text/plain": [
       "b'ship'"
      ]
     },
     "execution_count": 53,
     "metadata": {},
     "output_type": "execute_result"
    }
   ],
   "source": [
    "batch_meta[b\"label_names\"][(np.argmax(preds[1]))]"
   ]
  },
  {
   "cell_type": "code",
   "execution_count": 54,
   "metadata": {},
   "outputs": [
    {
     "data": {
      "image/png": "[encoded data removed]",
      "text/plain": [
       "<Figure size 432x288 with 1 Axes>"
      ]
     },
     "metadata": {
      "image/png": {
       "height": 250,
       "width": 253
      },
      "needs_background": "light"
     },
     "output_type": "display_data"
    }
   ],
   "source": [
    "plt.imshow(X_test[1],cmap=plt.cm.binary)\n",
    "plt.show()"
   ]
  },
  {
   "cell_type": "code",
   "execution_count": 55,
   "metadata": {},
   "outputs": [
    {
     "data": {
      "text/plain": [
       "b'airplane'"
      ]
     },
     "execution_count": 55,
     "metadata": {},
     "output_type": "execute_result"
    }
   ],
   "source": [
    "batch_meta[b\"label_names\"][(np.argmax(preds[10]))]"
   ]
  },
  {
   "cell_type": "code",
   "execution_count": 56,
   "metadata": {},
   "outputs": [
    {
     "data": {
      "image/png": "[encoded data removed]",
      "text/plain": [
       "<Figure size 432x288 with 1 Axes>"
      ]
     },
     "metadata": {
      "image/png": {
       "height": 250,
       "width": 253
      },
      "needs_background": "light"
     },
     "output_type": "display_data"
    }
   ],
   "source": [
    "plt.imshow(X_test[10],cmap=plt.cm.binary)\n",
    "plt.show()"
   ]
  },
  {
   "cell_type": "markdown",
   "metadata": {},
   "source": []
  },
  {
   "cell_type": "markdown",
   "metadata": {},
   "source": [
    "## Thank you!!!"
   ]
  }
 ],
 "metadata": {
  "kernelspec": {
   "display_name": "Python 3",
   "language": "python",
   "name": "python3"
  },
  "language_info": {
   "codemirror_mode": {
    "name": "ipython",
    "version": 3
   },
   "file_extension": ".py",
   "mimetype": "text/x-python",
   "name": "python",
   "nbconvert_exporter": "python",
   "pygments_lexer": "ipython3",
   "version": "3.7.3"
  }
 },
 "nbformat": 4,
 "nbformat_minor": 2
}
