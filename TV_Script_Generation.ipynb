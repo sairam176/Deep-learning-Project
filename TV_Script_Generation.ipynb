{
 "cells": [
  {
   "cell_type": "markdown",
   "metadata": {
    "colab_type": "text",
    "id": "n6vJbe_FZBKX"
   },
   "source": [
    "##### TV Script Generation\n",
    "\n",
    "In this project, you'll generate your own Simpsons (https://en.wikipedia.org/wiki/The_Simpsons) TV scripts using RNNs. You'll be using part of the Simpsons dataset (https://www.kaggle.com/wcukierski/the-simpsons-by-the-data) of scripts from 27 seasons. The Neural Network you'll build will generate a new TV script for a scene at Moe's Tavern (https://simpsonswiki.com/wiki/Moe's_Tavern).\n",
    "\n",
    "##### Get the Data\n",
    "\n",
    "The data is already provided for you. You'll be using a subset of the original dataset. It consists of only the scenes in Moe's Tavern. This doesn't include other versions of the tavern, like \"Moe's Cavern\", \"Flaming Moe's\", \"Uncle Moe's Family Feed-Bag\", etc..\n",
    "\n",
    "#### The following are some helper functions students can use in their code"
   ]
  },
  {
   "cell_type": "code",
   "execution_count": 11,
   "metadata": {
    "colab": {
     "base_uri": "https://localhost:8080/",
     "height": 129
    },
    "colab_type": "code",
    "id": "bQRSpQvpVk-A",
    "outputId": "3743046c-7148-404f-c72f-c33fd7e036d6"
   },
   "outputs": [
    {
     "name": "stdout",
     "output_type": "stream",
     "text": [
      "Go to this URL in a browser: https://accounts.google.com/o/oauth2/auth?client_id=947318989803-6bn6qk8qdgf4n4g3pfee6491hc0brc4i.apps.googleusercontent.com&redirect_uri=urn%3Aietf%3Awg%3Aoauth%3A2.0%3Aoob&scope=email%20https%3A%2F%2Fwww.googleapis.com%2Fauth%2Fdocs.test%20https%3A%2F%2Fwww.googleapis.com%2Fauth%2Fdrive%20https%3A%2F%2Fwww.googleapis.com%2Fauth%2Fdrive.photos.readonly%20https%3A%2F%2Fwww.googleapis.com%2Fauth%2Fpeopleapi.readonly&response_type=code\n",
      "\n",
      "Enter your authorization code:\n",
      "··········\n",
      "Mounted at /gdrive\n"
     ]
    }
   ],
   "source": [
    "from google.colab import drive\n",
    "drive.mount(\"/gdrive\", force_remount=True)"
   ]
  },
  {
   "cell_type": "code",
   "execution_count": 0,
   "metadata": {
    "colab": {},
    "colab_type": "code",
    "id": "VX7mTzrLZOfB"
   },
   "outputs": [],
   "source": [
    "import os\n",
    "import pickle\n",
    "\n",
    "\n",
    "def load_data(path):\n",
    "    \n",
    "    #input_file = os.path.join(path)\n",
    "    with open(path, mode='r') as f:\n",
    "        data = f.read()\n",
    "\n",
    "    return data\n",
    "\n",
    "\n",
    "def preprocess_and_save_data(dataset_path, token_lookup, create_lookup_tables):\n",
    "    \n",
    "    text = load_data(dataset_path)\n",
    "    \n",
    "    text = text[81:]\n",
    "\n",
    "    token_dict = token_lookup()\n",
    "    for key, token in token_dict.items():\n",
    "        text = text.replace(key, ' {} '.format(token))\n",
    "\n",
    "    text = text.lower()\n",
    "    text = text.split()\n",
    "\n",
    "    vocab_to_int, int_to_vocab = create_lookup_tables(text)\n",
    "    int_text = [vocab_to_int[word] for word in text]\n",
    "    pickle.dump((int_text, vocab_to_int, int_to_vocab, token_dict), open('preprocess.p', 'wb'))\n",
    "\n",
    "\n",
    "def load_preprocess():\n",
    "    \n",
    "    return pickle.load(open('preprocess.p', mode='rb'))\n",
    "\n",
    "\n",
    "def save_params(params):\n",
    "    \n",
    "    pickle.dump(params, open('params.p', 'wb'))\n",
    "\n",
    "\n",
    "def load_params():\n",
    "    \n",
    "    return pickle.load(open('params.p', mode='rb'))\n",
    "  \n",
    "\n",
    "data_dir = '/gdrive/My Drive/Colab Notebooks/moes_tavern_lines.txt'\n",
    "text = load_data(data_dir)\n",
    "\n",
    "text = text[81:]"
   ]
  },
  {
   "cell_type": "markdown",
   "metadata": {
    "colab_type": "text",
    "id": "k8b5Dn7wa7-3"
   },
   "source": [
    "##### Explore the Data\n",
    "\n",
    "Play around with view_sentence_range to view different parts of the data.\n"
   ]
  },
  {
   "cell_type": "code",
   "execution_count": 15,
   "metadata": {
    "colab": {
     "base_uri": "https://localhost:8080/",
     "height": 368
    },
    "colab_type": "code",
    "id": "rR6RL_Kda-in",
    "outputId": "30dedada-ad31-4d4f-d6c1-ffbcc6318528"
   },
   "outputs": [
    {
     "name": "stdout",
     "output_type": "stream",
     "text": [
      "Dataset Stats\n",
      "Roughly the number of unique words: 11492\n",
      "Number of scenes: 262\n",
      "Average number of sentences in each scene: 15.248091603053435\n",
      "Number of lines: 4257\n",
      "Average number of words in each line: 11.50434578341555\n",
      "\n",
      "The sentences 0 to 10:\n",
      "Moe_Szyslak: (INTO PHONE) Moe's Tavern. Where the elite meet to drink.\n",
      "Bart_Simpson: Eh, yeah, hello, is Mike there? Last name, Rotch.\n",
      "Moe_Szyslak: (INTO PHONE) Hold on, I'll check. (TO BARFLIES) Mike Rotch. Mike Rotch. Hey, has anybody seen Mike Rotch, lately?\n",
      "Moe_Szyslak: (INTO PHONE) Listen you little puke. One of these days I'm gonna catch you, and I'm gonna carve my name on your back with an ice pick.\n",
      "Moe_Szyslak: What's the matter Homer? You're not your normal effervescent self.\n",
      "Homer_Simpson: I got my problems, Moe. Give me another one.\n",
      "Moe_Szyslak: Homer, hey, you should not drink to forget your problems.\n",
      "Barney_Gumble: Yeah, you should only drink to enhance your social skills.\n",
      "\n",
      "\n"
     ]
    }
   ],
   "source": [
    "view_sentence_range = (0, 10)\n",
    "\n",
    "\n",
    "import numpy as np\n",
    "\n",
    "print('Dataset Stats')\n",
    "print('Roughly the number of unique words: {}'.format(len({word: None for word in text.split()})))\n",
    "scenes = text.split('\\n\\n')\n",
    "print('Number of scenes: {}'.format(len(scenes)))\n",
    "sentence_count_scene = [scene.count('\\n') for scene in scenes]\n",
    "print('Average number of sentences in each scene: {}'.format(np.average(sentence_count_scene)))\n",
    "\n",
    "sentences = [sentence for scene in scenes for sentence in scene.split('\\n')]\n",
    "print('Number of lines: {}'.format(len(sentences)))\n",
    "word_count_sentence = [len(sentence.split()) for sentence in sentences]\n",
    "print('Average number of words in each line: {}'.format(np.average(word_count_sentence)))\n",
    "\n",
    "print()\n",
    "print('The sentences {} to {}:'.format(*view_sentence_range))\n",
    "print('\\n'.join(text.split('\\n')[view_sentence_range[0]:view_sentence_range[1]]))"
   ]
  },
  {
   "cell_type": "markdown",
   "metadata": {
    "colab_type": "text",
    "id": "Vf9LwUy5bOef"
   },
   "source": [
    "#### Implement Preprocessing Functions\n",
    "\n",
    "The first thing to do to any dataset is preprocessing. Implement the following preprocessing functions below:\n",
    "  \n",
    "\n",
    "*   Lookup Table\n",
    "*   Tokenize Punctuation\n",
    "   \n",
    "\n",
    "##### Lookup Table\n",
    "\n",
    "To create a word embedding, you first need to transform the words to ids. In this function, create two dictionaries:   \n",
    "    \n",
    "\n",
    "*  Dictionary to go from the words to an id, we'll call vocab_to_int\n",
    "*  Dictionary to go from the id to word, we'll call int_to_vocab\n",
    "\n",
    "Return these dictionaries in the following tuple (vocab_to_int, int_to_vocab)\n"
   ]
  },
  {
   "cell_type": "code",
   "execution_count": 0,
   "metadata": {
    "colab": {},
    "colab_type": "code",
    "id": "T1KRv1WYbR_s"
   },
   "outputs": [],
   "source": [
    "import numpy as np\n",
    "\n",
    "def create_lookup_tables(text):\n",
    "    \n",
    "    vocab_to_int = dict((word, index) for index, word in enumerate(set(text)))\n",
    "    int_to_vocab = dict((index, word) for index, word in enumerate(set(text)))\n",
    "    \n",
    "    return (vocab_to_int, int_to_vocab)\n"
   ]
  },
  {
   "cell_type": "markdown",
   "metadata": {
    "colab_type": "text",
    "id": "QQGQG4Osbzth"
   },
   "source": [
    "#### Tokenize Punctuation\n",
    "\n",
    "We'll be splitting the script into a word array using spaces as delimiters. However, punctuations like periods and exclamation marks make it hard for the neural network to distinguish between the word \"bye\" and \"bye!\".\n",
    "\n",
    "Implement the function token_lookup to return a dict that will be used to tokenize symbols like \"!\" into \"||Exclamation_Mark||\". Create a dictionary for the following symbols where the symbol is the key and value is the token:\n",
    "   \n",
    "\n",
    "*  Period ( . )\n",
    "*  Comma ( , )\n",
    "*  Quotation Mark ( \" )\n",
    "*  Semicolon ( ; )\n",
    "*  Exclamation mark ( ! )\n",
    "*  Question mark ( ? )\n",
    "*  Left Parentheses ( ( )\n",
    "*  Right Parentheses ( ) )\n",
    "*   Dash ( -- )\n",
    "*  Return ( \\n )\n",
    "    \n",
    "\n",
    "This dictionary will be used to token the symbols and add the delimiter (space) around it. This separates the symbols as it's own word, making it easier for the neural network to predict on the next word. Make sure you don't use a token that could be confused as a word. Instead of using the token \"dash\", try using something like \"||dash||\".\n"
   ]
  },
  {
   "cell_type": "code",
   "execution_count": 0,
   "metadata": {
    "colab": {},
    "colab_type": "code",
    "id": "1sAU5CoQcdh2"
   },
   "outputs": [],
   "source": [
    "def token_lookup():\n",
    "    \n",
    "    values = ['Period','Comma','Quotation_Mark','Semicolon','Exclamation_mark','Question_mark',\n",
    "              'Left_Parentheses','Right_Parentheses','Dash','Return']\n",
    "    keys = ['.', ',', '\"', ';', '!', '?', '(', ')', '--','\\n']\n",
    "    \n",
    "    return (dict(zip(keys,values)))\n"
   ]
  },
  {
   "cell_type": "markdown",
   "metadata": {
    "colab_type": "text",
    "id": "gf-R7M_icrOZ"
   },
   "source": [
    "#### Preprocess all the data and save it\n",
    "\n",
    "Running the code cell below will preprocess all the data and save it to file.\n"
   ]
  },
  {
   "cell_type": "code",
   "execution_count": 0,
   "metadata": {
    "colab": {},
    "colab_type": "code",
    "id": "en1a4LmNctZV"
   },
   "outputs": [],
   "source": [
    "preprocess_and_save_data(data_dir, token_lookup, create_lookup_tables)"
   ]
  },
  {
   "cell_type": "markdown",
   "metadata": {
    "colab_type": "text",
    "id": "96vyk2BpdFVI"
   },
   "source": [
    "#### Check Point\n",
    "\n",
    "This is your first checkpoint. If you ever decide to come back to this notebook or have to restart the notebook, you can start from here. The preprocessed data has been saved to disk.\n"
   ]
  },
  {
   "cell_type": "code",
   "execution_count": 0,
   "metadata": {
    "colab": {},
    "colab_type": "code",
    "id": "B18BUQOjdHco"
   },
   "outputs": [],
   "source": [
    "import numpy as np\n",
    "\n",
    "int_text, vocab_to_int, int_to_vocab, token_dict = load_preprocess()"
   ]
  },
  {
   "cell_type": "markdown",
   "metadata": {
    "colab_type": "text",
    "id": "-j7uZc63dMu-"
   },
   "source": [
    "#### Build the Neural Network\n",
    "\n",
    "You'll build the components necessary to build a RNN by implementing the following functions below:\n",
    "\n",
    "    get_inputs\n",
    "    get_init_cell\n",
    "    get_embed\n",
    "    build_rnn\n",
    "    build_nn\n",
    "    get_batches\n",
    "\n",
    "#### Check the Version of TensorFlow and Access to GPU"
   ]
  },
  {
   "cell_type": "code",
   "execution_count": 20,
   "metadata": {
    "colab": {
     "base_uri": "https://localhost:8080/",
     "height": 72
    },
    "colab_type": "code",
    "id": "97yeYu57dYFW",
    "outputId": "3cd854f6-c05e-4a85-d906-7a6e3ffa3220"
   },
   "outputs": [
    {
     "name": "stdout",
     "output_type": "stream",
     "text": [
      "TensorFlow Version: 1.14.0\n"
     ]
    },
    {
     "name": "stderr",
     "output_type": "stream",
     "text": [
      "/usr/local/lib/python3.6/dist-packages/ipykernel_launcher.py:11: UserWarning: No GPU found. Please use a GPU to train your neural network.\n",
      "  # This is added back by InteractiveShellApp.init_path()\n"
     ]
    }
   ],
   "source": [
    "from distutils.version import LooseVersion\n",
    "import warnings\n",
    "import tensorflow as tf\n",
    "\n",
    "# Check TensorFlow Version\n",
    "assert LooseVersion(tf.__version__) >= LooseVersion('1.0'), 'Please use TensorFlow version 1.0 or newer'\n",
    "print('TensorFlow Version: {}'.format(tf.__version__))\n",
    "\n",
    "# Check for a GPU\n",
    "if not tf.test.gpu_device_name():\n",
    "    warnings.warn('No GPU found. Please use a GPU to train your neural network.')\n",
    "else:\n",
    "    print('Default GPU Device: {}'.format(tf.test.gpu_device_name()))"
   ]
  },
  {
   "cell_type": "markdown",
   "metadata": {
    "colab_type": "text",
    "id": "U5LGTrqodfUc"
   },
   "source": [
    "#### Input\n",
    "\n",
    "Implement the get_inputs() function to create TF Placeholders for the Neural Network. It should create the following placeholders:\n",
    "\n",
    "    \n",
    "\n",
    "*   Input text placeholder named \"input\" using the TF Placeholder name parameter.\n",
    "*   Targets placeholder\n",
    "*   Learning Rate placeholder   \n",
    "    \n",
    "\n",
    "Return the placeholders in the following tuple (Input, Targets, LearningRate)\n"
   ]
  },
  {
   "cell_type": "code",
   "execution_count": 0,
   "metadata": {
    "colab": {},
    "colab_type": "code",
    "id": "_zCBTgG-dsMC"
   },
   "outputs": [],
   "source": [
    "def get_inputs():\n",
    "    \n",
    "    input = tf.placeholder(tf.int32, [None, None], name= 'input')\n",
    "    targets = tf.placeholder(tf.int32, [None, None], name= 'targets')\n",
    "    learning_rate = tf.placeholder(tf.float32, name= 'learning_rate')\n",
    "    \n",
    "    return input, targets, learning_rate\n",
    "\n"
   ]
  },
  {
   "cell_type": "markdown",
   "metadata": {
    "colab_type": "text",
    "id": "MNYEp37Jd3Ni"
   },
   "source": [
    "#### Build RNN Cell and Initialize\n",
    "\n",
    "Stack one or more BasicLSTMCells in a MultiRNNCell.\n",
    "\n",
    "\n",
    "*   The Rnn size should be set using rnn_size\n",
    "*    Initalize Cell State using the MultiRNNCell's zero_state() function\n",
    "  *   Apply the name \"initial_state\" to the initial state using tf.identity()  \n",
    "        \n",
    "\n",
    "Return the cell and initial state in the following tuple (Cell, InitialState)\n"
   ]
  },
  {
   "cell_type": "code",
   "execution_count": 0,
   "metadata": {
    "colab": {},
    "colab_type": "code",
    "id": "8akXcb89eIQT"
   },
   "outputs": [],
   "source": [
    "def get_init_cell(batch_size, rnn_size):\n",
    "    \n",
    "    lstm = tf.contrib.rnn.BasicLSTMCell(rnn_size)\n",
    "    cell = tf.contrib.rnn.MultiRNNCell([lstm])\n",
    "    initial_state = cell.zero_state(batch_size, tf.float32)\n",
    "    initial_state = tf.identity(initial_state, name= 'initial_state')\n",
    "    \n",
    "    return (cell, initial_state)\n"
   ]
  },
  {
   "cell_type": "markdown",
   "metadata": {
    "colab_type": "text",
    "id": "c7R1y2bNe8A-"
   },
   "source": [
    "#### Word Embedding\n",
    "\n",
    "Apply embedding to input_data using TensorFlow. Return the embedded sequence.\n"
   ]
  },
  {
   "cell_type": "code",
   "execution_count": 0,
   "metadata": {
    "colab": {},
    "colab_type": "code",
    "id": "dA63rL7qe91R"
   },
   "outputs": [],
   "source": [
    "def get_embed(input_data, vocab_size, embed_dim):\n",
    "    \n",
    "    embedding = tf.Variable(tf.random_uniform((vocab_size, embed_dim),-1,1))\n",
    "    embed = tf.nn.embedding_lookup(embedding, input_data)\n",
    "    \n",
    "    return embed\n"
   ]
  },
  {
   "cell_type": "markdown",
   "metadata": {
    "colab_type": "text",
    "id": "oALLODGvfE2O"
   },
   "source": [
    "#### Build RNN\n",
    "\n",
    "You created a RNN Cell in the get_init_cell() function. Time to use the cell to create a RNN.\n",
    "   \n",
    "\n",
    "*   Build the RNN using the tf.nn.dynamic_rnn()\n",
    "  *   Apply the name \"final_state\" to the final state using tf.identity()\n",
    "      \n",
    "\n",
    "Return the outputs and final_state state in the following tuple (Outputs, FinalState)\n"
   ]
  },
  {
   "cell_type": "code",
   "execution_count": 0,
   "metadata": {
    "colab": {},
    "colab_type": "code",
    "id": "JYEDAZkSfRvM"
   },
   "outputs": [],
   "source": [
    "def build_rnn(cell, inputs):\n",
    "    \n",
    "    outputs, final_state = tf.nn.dynamic_rnn(cell, inputs, dtype=tf.float32)\n",
    "    final_state = tf.identity(final_state, name= 'final_state')\n",
    "    \n",
    "    return (outputs, final_state)\n",
    "\n"
   ]
  },
  {
   "cell_type": "markdown",
   "metadata": {
    "colab_type": "text",
    "id": "e2ms8i2cfemQ"
   },
   "source": [
    "#### Build the Neural Network\n",
    "\n",
    "Apply the functions you implemented above to:\n",
    "    \n",
    "\n",
    "*   Apply embedding to input_data using your get_embed(input_data, vocab_size, embed_dim) function.\n",
    "*  Build RNN using cell and your build_rnn(cell, inputs) function.\n",
    "*   Apply a fully connected layer with a linear activation and vocab_size as the number of outputs.\n",
    "   \n",
    "\n",
    "Return the logits and final state in the following tuple (Logits, FinalState)\n"
   ]
  },
  {
   "cell_type": "code",
   "execution_count": 0,
   "metadata": {
    "colab": {},
    "colab_type": "code",
    "id": "CEoCUKZWftUA"
   },
   "outputs": [],
   "source": [
    "def build_nn(cell, rnn_size, input_data, vocab_size, embed_dim):\n",
    "    \n",
    "    embedded = get_embed(input_data, vocab_size, rnn_size)\n",
    "    outputs, final_state = build_rnn(cell, embedded)\n",
    "    output = tf.reshape(outputs, [-1, rnn_size])\n",
    "    softmax_w = tf.Variable(tf.truncated_normal((rnn_size, vocab_size), stddev=0.01))\n",
    "    softmax_b = tf.Variable(tf.zeros(vocab_size))\n",
    "    logits = tf.add(tf.matmul(output, softmax_w), softmax_b)\n",
    "    logits = tf.contrib.layers.fully_connected(outputs, vocab_size, activation_fn=None)\n",
    "    \n",
    "    return logits, final_state\n",
    "\n"
   ]
  },
  {
   "cell_type": "code",
   "execution_count": 0,
   "metadata": {
    "colab": {},
    "colab_type": "code",
    "id": "L74gjOOngKxT"
   },
   "outputs": [],
   "source": [
    "def get_batches(int_text, batch_size, seq_length):\n",
    "    \n",
    "    n_batches = int(len(int_text) / (batch_size * seq_length))\n",
    "    xdata = np.array(int_text[: n_batches * batch_size * seq_length])\n",
    "    ydata = np.array(int_text[1: n_batches * batch_size * seq_length + 1])\n",
    "    ydata[-1] = xdata[0]\n",
    "    x_batches = np.split(xdata.reshape(batch_size, -1), n_batches, 1)\n",
    "    y_batches = np.split(ydata.reshape(batch_size, -1), n_batches, 1)\n",
    "    \n",
    "    return np.asarray(list(zip(x_batches, y_batches)))\n",
    "\n"
   ]
  },
  {
   "cell_type": "markdown",
   "metadata": {
    "colab_type": "text",
    "id": "c8vBmjAQgYEE"
   },
   "source": [
    "#### Neural Network Training Hyperparameters\n",
    "\n",
    "Tune the following parameters:    \n",
    "\n",
    "*   Set num_epochs to the number of epochs.\n",
    "*   Set batch_size to the batch size.\n",
    "*   Set rnn_size to the size of the RNNs.\n",
    "*   Set embed_dim to the size of the embedding.\n",
    "*   Set seq_length to the length of sequence.\n",
    "*   Set learning_rate to the learning rate.\n",
    "*   Set show_every_n_batches to the number of batches the neural network should print progress."
   ]
  },
  {
   "cell_type": "code",
   "execution_count": 0,
   "metadata": {
    "colab": {},
    "colab_type": "code",
    "id": "hHUjBtwrg3LQ"
   },
   "outputs": [],
   "source": [
    "# Number of Epochs\n",
    "num_epochs = 50\n",
    "# Batch Size\n",
    "batch_size = 128\n",
    "# RNN Size\n",
    "rnn_size = 128\n",
    "# Embedding Dimension Size\n",
    "embed_dim = 256\n",
    "# Sequence Length\n",
    "seq_length = 32\n",
    "# Learning Rate\n",
    "learning_rate = 0.01\n",
    "# Show stats for every n number of batches\n",
    "show_every_n_batches = 20\n",
    "\n",
    "\n",
    "save_dir = './save'"
   ]
  },
  {
   "cell_type": "markdown",
   "metadata": {
    "colab_type": "text",
    "id": "uPDX-1kPhT4J"
   },
   "source": [
    "#### Build the Graph\n",
    "\n",
    "Build the graph using the neural network you implemented.\n"
   ]
  },
  {
   "cell_type": "code",
   "execution_count": 28,
   "metadata": {
    "colab": {
     "base_uri": "https://localhost:8080/",
     "height": 331
    },
    "colab_type": "code",
    "id": "a4mniZV2hV_m",
    "outputId": "89582078-096b-40e1-8510-005435ce1450"
   },
   "outputs": [
    {
     "name": "stderr",
     "output_type": "stream",
     "text": [
      "WARNING: Logging before flag parsing goes to stderr.\n",
      "W0803 02:43:35.436472 140491114170240 deprecation.py:323] From <ipython-input-22-5f316f56cdaa>:3: BasicLSTMCell.__init__ (from tensorflow.python.ops.rnn_cell_impl) is deprecated and will be removed in a future version.\n",
      "Instructions for updating:\n",
      "This class is equivalent as tf.keras.layers.LSTMCell, and will be replaced by that in Tensorflow 2.0.\n",
      "W0803 02:43:35.438598 140491114170240 deprecation.py:323] From <ipython-input-22-5f316f56cdaa>:4: MultiRNNCell.__init__ (from tensorflow.python.ops.rnn_cell_impl) is deprecated and will be removed in a future version.\n",
      "Instructions for updating:\n",
      "This class is equivalent as tf.keras.layers.StackedRNNCells, and will be replaced by that in Tensorflow 2.0.\n",
      "W0803 02:43:35.479353 140491114170240 deprecation.py:323] From <ipython-input-24-c69f37a07daa>:3: dynamic_rnn (from tensorflow.python.ops.rnn) is deprecated and will be removed in a future version.\n",
      "Instructions for updating:\n",
      "Please use `keras.layers.RNN(cell)`, which is equivalent to this API\n",
      "W0803 02:43:36.046498 140491114170240 deprecation.py:506] From /usr/local/lib/python3.6/dist-packages/tensorflow/python/ops/init_ops.py:1251: calling VarianceScaling.__init__ (from tensorflow.python.ops.init_ops) with dtype is deprecated and will be removed in a future version.\n",
      "Instructions for updating:\n",
      "Call initializer instance with the dtype argument instead of passing it to the constructor\n",
      "W0803 02:43:36.059961 140491114170240 deprecation.py:506] From /usr/local/lib/python3.6/dist-packages/tensorflow/python/ops/rnn_cell_impl.py:738: calling Zeros.__init__ (from tensorflow.python.ops.init_ops) with dtype is deprecated and will be removed in a future version.\n",
      "Instructions for updating:\n",
      "Call initializer instance with the dtype argument instead of passing it to the constructor\n"
     ]
    }
   ],
   "source": [
    "from tensorflow.contrib import seq2seq\n",
    "\n",
    "train_graph = tf.Graph()\n",
    "with train_graph.as_default():\n",
    "    vocab_size = len(int_to_vocab)\n",
    "    input_text, targets, lr = get_inputs()\n",
    "    input_data_shape = tf.shape(input_text)\n",
    "    cell, initial_state = get_init_cell(input_data_shape[0], rnn_size)\n",
    "    logits, final_state = build_nn(cell, rnn_size, input_text, vocab_size, embed_dim)\n",
    "\n",
    "    # Probabilities for generating words\n",
    "    probs = tf.nn.softmax(logits, name='probs')\n",
    "\n",
    "    # Loss function\n",
    "    cost = seq2seq.sequence_loss(\n",
    "        logits,\n",
    "        targets,\n",
    "        tf.ones([input_data_shape[0], input_data_shape[1]]))\n",
    "\n",
    "    # Optimizer\n",
    "    optimizer = tf.train.AdamOptimizer(lr)\n",
    "\n",
    "    # Gradient Clipping\n",
    "    gradients = optimizer.compute_gradients(cost)\n",
    "    capped_gradients = [(tf.clip_by_value(grad, -1., 1.), var) for grad, var in gradients if grad is not None]\n",
    "    train_op = optimizer.apply_gradients(capped_gradients)"
   ]
  },
  {
   "cell_type": "code",
   "execution_count": 29,
   "metadata": {
    "colab": {
     "base_uri": "https://localhost:8080/",
     "height": 770
    },
    "colab_type": "code",
    "id": "x3JkLcdwhozu",
    "outputId": "aa0696e5-56b8-435e-9893-6bfcbadb9cbc"
   },
   "outputs": [
    {
     "name": "stdout",
     "output_type": "stream",
     "text": [
      "Epoch   0 Batch    0/16   train_loss = 8.822\n",
      "Epoch   1 Batch    4/16   train_loss = 5.805\n",
      "Epoch   2 Batch    8/16   train_loss = 5.323\n",
      "Epoch   3 Batch   12/16   train_loss = 4.811\n",
      "Epoch   5 Batch    0/16   train_loss = 4.493\n",
      "Epoch   6 Batch    4/16   train_loss = 4.293\n",
      "Epoch   7 Batch    8/16   train_loss = 4.158\n",
      "Epoch   8 Batch   12/16   train_loss = 3.896\n",
      "Epoch  10 Batch    0/16   train_loss = 3.696\n",
      "Epoch  11 Batch    4/16   train_loss = 3.563\n",
      "Epoch  12 Batch    8/16   train_loss = 3.488\n",
      "Epoch  13 Batch   12/16   train_loss = 3.320\n",
      "Epoch  15 Batch    0/16   train_loss = 3.164\n",
      "Epoch  16 Batch    4/16   train_loss = 3.087\n",
      "Epoch  17 Batch    8/16   train_loss = 3.050\n",
      "Epoch  18 Batch   12/16   train_loss = 2.963\n",
      "Epoch  20 Batch    0/16   train_loss = 2.847\n",
      "Epoch  21 Batch    4/16   train_loss = 2.754\n",
      "Epoch  22 Batch    8/16   train_loss = 2.728\n",
      "Epoch  23 Batch   12/16   train_loss = 2.686\n",
      "Epoch  25 Batch    0/16   train_loss = 2.581\n",
      "Epoch  26 Batch    4/16   train_loss = 2.527\n",
      "Epoch  27 Batch    8/16   train_loss = 2.520\n",
      "Epoch  28 Batch   12/16   train_loss = 2.487\n",
      "Epoch  30 Batch    0/16   train_loss = 2.373\n",
      "Epoch  31 Batch    4/16   train_loss = 2.308\n",
      "Epoch  32 Batch    8/16   train_loss = 2.317\n",
      "Epoch  33 Batch   12/16   train_loss = 2.285\n",
      "Epoch  35 Batch    0/16   train_loss = 2.154\n",
      "Epoch  36 Batch    4/16   train_loss = 2.084\n",
      "Epoch  37 Batch    8/16   train_loss = 2.042\n",
      "Epoch  38 Batch   12/16   train_loss = 2.006\n",
      "Epoch  40 Batch    0/16   train_loss = 1.956\n",
      "Epoch  41 Batch    4/16   train_loss = 1.912\n",
      "Epoch  42 Batch    8/16   train_loss = 1.880\n",
      "Epoch  43 Batch   12/16   train_loss = 1.852\n",
      "Epoch  45 Batch    0/16   train_loss = 1.799\n",
      "Epoch  46 Batch    4/16   train_loss = 1.770\n",
      "Epoch  47 Batch    8/16   train_loss = 1.725\n",
      "Epoch  48 Batch   12/16   train_loss = 1.722\n",
      "Model Trained and Saved\n"
     ]
    }
   ],
   "source": [
    "batches = get_batches(int_text, batch_size, seq_length)\n",
    "\n",
    "with tf.Session(graph=train_graph) as sess:\n",
    "    sess.run(tf.global_variables_initializer())\n",
    "\n",
    "    for epoch_i in range(num_epochs):\n",
    "        state = sess.run(initial_state, {input_text: batches[0][0]})\n",
    "\n",
    "        for batch_i, (x, y) in enumerate(batches):\n",
    "            feed = {\n",
    "                input_text: x,\n",
    "                targets: y,\n",
    "                initial_state: state,\n",
    "                lr: learning_rate}\n",
    "            train_loss, state, _ = sess.run([cost, final_state, train_op], feed)\n",
    "\n",
    "            # Show every <show_every_n_batches> batches\n",
    "            if (epoch_i * len(batches) + batch_i) % show_every_n_batches == 0:\n",
    "                print('Epoch {:>3} Batch {:>4}/{}   train_loss = {:.3f}'.format(\n",
    "                    epoch_i,\n",
    "                    batch_i,\n",
    "                    len(batches),\n",
    "                    train_loss))\n",
    "\n",
    "    # Save Model\n",
    "    saver = tf.train.Saver()\n",
    "    saver.save(sess, save_dir)\n",
    "    print('Model Trained and Saved')"
   ]
  },
  {
   "cell_type": "markdown",
   "metadata": {
    "colab_type": "text",
    "id": "Htu17HROhtJm"
   },
   "source": [
    "#### Save Parameters\n",
    "\n",
    "Save seq_length and save_dir for generating a new TV script.\n"
   ]
  },
  {
   "cell_type": "code",
   "execution_count": 0,
   "metadata": {
    "colab": {},
    "colab_type": "code",
    "id": "_MZ2U8tqhu_I"
   },
   "outputs": [],
   "source": [
    "save_params((seq_length, save_dir))"
   ]
  },
  {
   "cell_type": "markdown",
   "metadata": {
    "colab_type": "text",
    "id": "ZfUvK_Cvh00u"
   },
   "source": [
    "### Checkpoint"
   ]
  },
  {
   "cell_type": "code",
   "execution_count": 0,
   "metadata": {
    "colab": {},
    "colab_type": "code",
    "id": "2WrXvuBnh232"
   },
   "outputs": [],
   "source": [
    "import tensorflow as tf\n",
    "import numpy as np\n",
    "\n",
    "\n",
    "_, vocab_to_int, int_to_vocab, token_dict = load_preprocess()\n",
    "seq_length, load_dir = load_params()"
   ]
  },
  {
   "cell_type": "markdown",
   "metadata": {
    "colab_type": "text",
    "id": "qIX-6IieiEjt"
   },
   "source": [
    "### Implement Generate Functions\n",
    "#### Get Tensors\n",
    "\n",
    "Get tensors from loaded_graph using the function get_tensor_by_name(). Get the tensors using the following names:\n",
    "\n",
    "    \"input:0\"\n",
    "    \"initial_state:0\"\n",
    "    \"final_state:0\"\n",
    "    \"probs:0\"\n",
    "\n",
    "Return the tensors in the following tuple (InputTensor, InitialStateTensor, FinalStateTensor, ProbsTensor)"
   ]
  },
  {
   "cell_type": "code",
   "execution_count": 0,
   "metadata": {
    "colab": {},
    "colab_type": "code",
    "id": "rJFi-33iiJi1"
   },
   "outputs": [],
   "source": [
    "def get_tensors(loaded_graph):\n",
    "    \n",
    "    InputTensor = loaded_graph.get_tensor_by_name(\"input:0\")\n",
    "    InitialStateTensor = loaded_graph.get_tensor_by_name(\"initial_state:0\")\n",
    "    FinalStateTensor = loaded_graph.get_tensor_by_name(\"final_state:0\")\n",
    "    ProbsTensor = loaded_graph.get_tensor_by_name(\"probs:0\")\n",
    "    \n",
    "    return (InputTensor, InitialStateTensor, FinalStateTensor, ProbsTensor)\n",
    "\n"
   ]
  },
  {
   "cell_type": "markdown",
   "metadata": {
    "colab_type": "text",
    "id": "D8NhAZ9riWd6"
   },
   "source": [
    "#### Choose Word\n",
    "\n",
    "Implement the pick_word() function to select the next word using probabilities.\n"
   ]
  },
  {
   "cell_type": "code",
   "execution_count": 0,
   "metadata": {
    "colab": {},
    "colab_type": "code",
    "id": "jMCXu7L3iYlG"
   },
   "outputs": [],
   "source": [
    "def pick_word(probabilities, int_to_vocab):\n",
    "    \n",
    "    x = np.argmax(probabilities)\n",
    "    return int_to_vocab[x]"
   ]
  },
  {
   "cell_type": "markdown",
   "metadata": {
    "colab_type": "text",
    "id": "RYLbrFenigtc"
   },
   "source": [
    "### Generate TV Script\n",
    "\n",
    "This will generate the TV script for you. Set gen_length to the length of TV script you want to generate.\n"
   ]
  },
  {
   "cell_type": "code",
   "execution_count": 60,
   "metadata": {
    "colab": {
     "base_uri": "https://localhost:8080/",
     "height": 237
    },
    "colab_type": "code",
    "id": "kussPt_WiiSz",
    "outputId": "05abb01f-ab39-4788-8751-9e996b404359"
   },
   "outputs": [
    {
     "name": "stdout",
     "output_type": "stream",
     "text": [
      "moe_szyslak:(into phone) moe's tavern...\n",
      "moe_szyslak:(to homer) i don't know, then i popped out backwards and on fire.\n",
      "moe_szyslak:(to homer) i don't know, then i popped out backwards and on fire.\n",
      "moe_szyslak:(to homer) i don't know, then i popped out backwards and on fire.\n",
      "moe_szyslak:(to homer) i don't know, then i popped out backwards and on fire.\n",
      "moe_szyslak:(to homer) i don't know, then i popped out backwards and on fire.\n",
      "moe_szyslak:(to homer) i don't know, then i popped out backwards and on fire.\n",
      "moe_szyslak:(to homer) i don't know, then i popped out backwards and on fire.\n",
      "moe_szyslak:(to homer) i don't know, then i popped out backwards and on fire.\n",
      "moe_szyslak:(to homer) i don't know, then i popped out backwards and on fire.\n",
      "moe_szyslak:(to homer) i don't know, then i popped out backwards and on fire.\n",
      "\n"
     ]
    }
   ],
   "source": [
    "gen_length = 200\n",
    "# homer_simpson, moe_szyslak, or Barney_Gumble\n",
    "prime_word = 'moe_szyslak'\n",
    "\n",
    "\n",
    "loaded_graph = tf.Graph()\n",
    "with tf.Session(graph=loaded_graph) as sess:\n",
    "    # Load saved model\n",
    "    loader = tf.train.import_meta_graph(load_dir + '.meta')\n",
    "    loader.restore(sess, load_dir)\n",
    "\n",
    "    # Get Tensors from loaded model\n",
    "    input_text, initial_state, final_state, probs = get_tensors(loaded_graph)\n",
    "\n",
    "    # Sentences generation setup\n",
    "    gen_sentences = [prime_word + ':']\n",
    "    prev_state = sess.run(initial_state, {input_text: np.array([[1]])})\n",
    "\n",
    "    # Generate sentences\n",
    "    for n in range(gen_length):\n",
    "        # Dynamic Input\n",
    "        dyn_input = [[vocab_to_int[word] for word in gen_sentences[-seq_length:]]]\n",
    "        dyn_seq_length = len(dyn_input[0])\n",
    "\n",
    "        # Get Prediction\n",
    "        probabilities, prev_state = sess.run(\n",
    "            [probs, final_state],\n",
    "            {input_text: dyn_input, initial_state: prev_state})\n",
    "        \n",
    "        pred_word = pick_word(probabilities[0,dyn_seq_length-1,:], int_to_vocab)\n",
    "\n",
    "        gen_sentences.append(pred_word)\n",
    "    \n",
    "    # Remove tokens\n",
    "    tv_script = ' '.join(gen_sentences)\n",
    "    for key, token in token_dict.items():\n",
    "        ending = ' ' if key in ['\\n', '(', '\"'] else ''\n",
    "        tv_script = tv_script.replace(' ' + token.lower(), key)\n",
    "    tv_script = tv_script.replace('\\n ', '\\n')\n",
    "    tv_script = tv_script.replace('( ', '(')\n",
    "        \n",
    "    print(tv_script)"
   ]
  }
 ],
 "metadata": {
  "colab": {
   "collapsed_sections": [],
   "name": "TV Script Generation.ipynb",
   "provenance": [],
   "version": "0.3.2"
  },
  "kernelspec": {
   "display_name": "Python 3",
   "language": "python",
   "name": "python3"
  },
  "language_info": {
   "codemirror_mode": {
    "name": "ipython",
    "version": 3
   },
   "file_extension": ".py",
   "mimetype": "text/x-python",
   "name": "python",
   "nbconvert_exporter": "python",
   "pygments_lexer": "ipython3",
   "version": "3.7.3"
  }
 },
 "nbformat": 4,
 "nbformat_minor": 1
}
